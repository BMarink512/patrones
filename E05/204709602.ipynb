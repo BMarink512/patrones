{
  "nbformat": 4,
  "nbformat_minor": 0,
  "metadata": {
    "colab": {
      "provenance": []
    },
    "kernelspec": {
      "name": "python3",
      "display_name": "Python 3"
    },
    "language_info": {
      "name": "python"
    },
    "widgets": {
      "application/vnd.jupyter.widget-state+json": {
        "3c6bd86499a544509dd7ab66f943dfae": {
          "model_module": "@jupyter-widgets/controls",
          "model_name": "HBoxModel",
          "model_module_version": "1.5.0",
          "state": {
            "_dom_classes": [],
            "_model_module": "@jupyter-widgets/controls",
            "_model_module_version": "1.5.0",
            "_model_name": "HBoxModel",
            "_view_count": null,
            "_view_module": "@jupyter-widgets/controls",
            "_view_module_version": "1.5.0",
            "_view_name": "HBoxView",
            "box_style": "",
            "children": [
              "IPY_MODEL_fab4a7122d46468da71b1d505d99c335",
              "IPY_MODEL_59cd265c3ca048f68b1d5df462f6d662",
              "IPY_MODEL_6620535f3f2d414f847067409b2c2014"
            ],
            "layout": "IPY_MODEL_628527cb60954326b8ccf18ace951668"
          }
        },
        "fab4a7122d46468da71b1d505d99c335": {
          "model_module": "@jupyter-widgets/controls",
          "model_name": "HTMLModel",
          "model_module_version": "1.5.0",
          "state": {
            "_dom_classes": [],
            "_model_module": "@jupyter-widgets/controls",
            "_model_module_version": "1.5.0",
            "_model_name": "HTMLModel",
            "_view_count": null,
            "_view_module": "@jupyter-widgets/controls",
            "_view_module_version": "1.5.0",
            "_view_name": "HTMLView",
            "description": "",
            "description_tooltip": null,
            "layout": "IPY_MODEL_f08667b48c15491baed4f8cdda28bd70",
            "placeholder": "​",
            "style": "IPY_MODEL_4987dca94e4844079145729936cf82ee",
            "value": "100%"
          }
        },
        "59cd265c3ca048f68b1d5df462f6d662": {
          "model_module": "@jupyter-widgets/controls",
          "model_name": "FloatProgressModel",
          "model_module_version": "1.5.0",
          "state": {
            "_dom_classes": [],
            "_model_module": "@jupyter-widgets/controls",
            "_model_module_version": "1.5.0",
            "_model_name": "FloatProgressModel",
            "_view_count": null,
            "_view_module": "@jupyter-widgets/controls",
            "_view_module_version": "1.5.0",
            "_view_name": "ProgressView",
            "bar_style": "success",
            "description": "",
            "description_tooltip": null,
            "layout": "IPY_MODEL_fe6ad3c782b34f9cb8d4e9b815f94f68",
            "max": 600,
            "min": 0,
            "orientation": "horizontal",
            "style": "IPY_MODEL_dc1d48f1bc694f158831b543a5698292",
            "value": 600
          }
        },
        "6620535f3f2d414f847067409b2c2014": {
          "model_module": "@jupyter-widgets/controls",
          "model_name": "HTMLModel",
          "model_module_version": "1.5.0",
          "state": {
            "_dom_classes": [],
            "_model_module": "@jupyter-widgets/controls",
            "_model_module_version": "1.5.0",
            "_model_name": "HTMLModel",
            "_view_count": null,
            "_view_module": "@jupyter-widgets/controls",
            "_view_module_version": "1.5.0",
            "_view_name": "HTMLView",
            "description": "",
            "description_tooltip": null,
            "layout": "IPY_MODEL_83302ee207924e34897f855706a10215",
            "placeholder": "​",
            "style": "IPY_MODEL_10e3d0592ff3418abd763bafec2fd3ae",
            "value": " 600/600 [01:20&lt;00:00,  7.18it/s]"
          }
        },
        "628527cb60954326b8ccf18ace951668": {
          "model_module": "@jupyter-widgets/base",
          "model_name": "LayoutModel",
          "model_module_version": "1.2.0",
          "state": {
            "_model_module": "@jupyter-widgets/base",
            "_model_module_version": "1.2.0",
            "_model_name": "LayoutModel",
            "_view_count": null,
            "_view_module": "@jupyter-widgets/base",
            "_view_module_version": "1.2.0",
            "_view_name": "LayoutView",
            "align_content": null,
            "align_items": null,
            "align_self": null,
            "border": null,
            "bottom": null,
            "display": null,
            "flex": null,
            "flex_flow": null,
            "grid_area": null,
            "grid_auto_columns": null,
            "grid_auto_flow": null,
            "grid_auto_rows": null,
            "grid_column": null,
            "grid_gap": null,
            "grid_row": null,
            "grid_template_areas": null,
            "grid_template_columns": null,
            "grid_template_rows": null,
            "height": null,
            "justify_content": null,
            "justify_items": null,
            "left": null,
            "margin": null,
            "max_height": null,
            "max_width": null,
            "min_height": null,
            "min_width": null,
            "object_fit": null,
            "object_position": null,
            "order": null,
            "overflow": null,
            "overflow_x": null,
            "overflow_y": null,
            "padding": null,
            "right": null,
            "top": null,
            "visibility": null,
            "width": null
          }
        },
        "f08667b48c15491baed4f8cdda28bd70": {
          "model_module": "@jupyter-widgets/base",
          "model_name": "LayoutModel",
          "model_module_version": "1.2.0",
          "state": {
            "_model_module": "@jupyter-widgets/base",
            "_model_module_version": "1.2.0",
            "_model_name": "LayoutModel",
            "_view_count": null,
            "_view_module": "@jupyter-widgets/base",
            "_view_module_version": "1.2.0",
            "_view_name": "LayoutView",
            "align_content": null,
            "align_items": null,
            "align_self": null,
            "border": null,
            "bottom": null,
            "display": null,
            "flex": null,
            "flex_flow": null,
            "grid_area": null,
            "grid_auto_columns": null,
            "grid_auto_flow": null,
            "grid_auto_rows": null,
            "grid_column": null,
            "grid_gap": null,
            "grid_row": null,
            "grid_template_areas": null,
            "grid_template_columns": null,
            "grid_template_rows": null,
            "height": null,
            "justify_content": null,
            "justify_items": null,
            "left": null,
            "margin": null,
            "max_height": null,
            "max_width": null,
            "min_height": null,
            "min_width": null,
            "object_fit": null,
            "object_position": null,
            "order": null,
            "overflow": null,
            "overflow_x": null,
            "overflow_y": null,
            "padding": null,
            "right": null,
            "top": null,
            "visibility": null,
            "width": null
          }
        },
        "4987dca94e4844079145729936cf82ee": {
          "model_module": "@jupyter-widgets/controls",
          "model_name": "DescriptionStyleModel",
          "model_module_version": "1.5.0",
          "state": {
            "_model_module": "@jupyter-widgets/controls",
            "_model_module_version": "1.5.0",
            "_model_name": "DescriptionStyleModel",
            "_view_count": null,
            "_view_module": "@jupyter-widgets/base",
            "_view_module_version": "1.2.0",
            "_view_name": "StyleView",
            "description_width": ""
          }
        },
        "fe6ad3c782b34f9cb8d4e9b815f94f68": {
          "model_module": "@jupyter-widgets/base",
          "model_name": "LayoutModel",
          "model_module_version": "1.2.0",
          "state": {
            "_model_module": "@jupyter-widgets/base",
            "_model_module_version": "1.2.0",
            "_model_name": "LayoutModel",
            "_view_count": null,
            "_view_module": "@jupyter-widgets/base",
            "_view_module_version": "1.2.0",
            "_view_name": "LayoutView",
            "align_content": null,
            "align_items": null,
            "align_self": null,
            "border": null,
            "bottom": null,
            "display": null,
            "flex": null,
            "flex_flow": null,
            "grid_area": null,
            "grid_auto_columns": null,
            "grid_auto_flow": null,
            "grid_auto_rows": null,
            "grid_column": null,
            "grid_gap": null,
            "grid_row": null,
            "grid_template_areas": null,
            "grid_template_columns": null,
            "grid_template_rows": null,
            "height": null,
            "justify_content": null,
            "justify_items": null,
            "left": null,
            "margin": null,
            "max_height": null,
            "max_width": null,
            "min_height": null,
            "min_width": null,
            "object_fit": null,
            "object_position": null,
            "order": null,
            "overflow": null,
            "overflow_x": null,
            "overflow_y": null,
            "padding": null,
            "right": null,
            "top": null,
            "visibility": null,
            "width": null
          }
        },
        "dc1d48f1bc694f158831b543a5698292": {
          "model_module": "@jupyter-widgets/controls",
          "model_name": "ProgressStyleModel",
          "model_module_version": "1.5.0",
          "state": {
            "_model_module": "@jupyter-widgets/controls",
            "_model_module_version": "1.5.0",
            "_model_name": "ProgressStyleModel",
            "_view_count": null,
            "_view_module": "@jupyter-widgets/base",
            "_view_module_version": "1.2.0",
            "_view_name": "StyleView",
            "bar_color": null,
            "description_width": ""
          }
        },
        "83302ee207924e34897f855706a10215": {
          "model_module": "@jupyter-widgets/base",
          "model_name": "LayoutModel",
          "model_module_version": "1.2.0",
          "state": {
            "_model_module": "@jupyter-widgets/base",
            "_model_module_version": "1.2.0",
            "_model_name": "LayoutModel",
            "_view_count": null,
            "_view_module": "@jupyter-widgets/base",
            "_view_module_version": "1.2.0",
            "_view_name": "LayoutView",
            "align_content": null,
            "align_items": null,
            "align_self": null,
            "border": null,
            "bottom": null,
            "display": null,
            "flex": null,
            "flex_flow": null,
            "grid_area": null,
            "grid_auto_columns": null,
            "grid_auto_flow": null,
            "grid_auto_rows": null,
            "grid_column": null,
            "grid_gap": null,
            "grid_row": null,
            "grid_template_areas": null,
            "grid_template_columns": null,
            "grid_template_rows": null,
            "height": null,
            "justify_content": null,
            "justify_items": null,
            "left": null,
            "margin": null,
            "max_height": null,
            "max_width": null,
            "min_height": null,
            "min_width": null,
            "object_fit": null,
            "object_position": null,
            "order": null,
            "overflow": null,
            "overflow_x": null,
            "overflow_y": null,
            "padding": null,
            "right": null,
            "top": null,
            "visibility": null,
            "width": null
          }
        },
        "10e3d0592ff3418abd763bafec2fd3ae": {
          "model_module": "@jupyter-widgets/controls",
          "model_name": "DescriptionStyleModel",
          "model_module_version": "1.5.0",
          "state": {
            "_model_module": "@jupyter-widgets/controls",
            "_model_module_version": "1.5.0",
            "_model_name": "DescriptionStyleModel",
            "_view_count": null,
            "_view_module": "@jupyter-widgets/base",
            "_view_module_version": "1.2.0",
            "_view_name": "StyleView",
            "description_width": ""
          }
        },
        "1baa7c9d83cc46688c81507e806e3f73": {
          "model_module": "@jupyter-widgets/controls",
          "model_name": "HBoxModel",
          "model_module_version": "1.5.0",
          "state": {
            "_dom_classes": [],
            "_model_module": "@jupyter-widgets/controls",
            "_model_module_version": "1.5.0",
            "_model_name": "HBoxModel",
            "_view_count": null,
            "_view_module": "@jupyter-widgets/controls",
            "_view_module_version": "1.5.0",
            "_view_name": "HBoxView",
            "box_style": "",
            "children": [
              "IPY_MODEL_83c09b2488c64f8b913d9c2393020afc",
              "IPY_MODEL_ad3ecc708a2a4b9ca3c276a2e36e0c71",
              "IPY_MODEL_7797efb23dbd4ba0bf483f5444fe2e27"
            ],
            "layout": "IPY_MODEL_e43a1c6bb36144669dcb376343a4dcee"
          }
        },
        "83c09b2488c64f8b913d9c2393020afc": {
          "model_module": "@jupyter-widgets/controls",
          "model_name": "HTMLModel",
          "model_module_version": "1.5.0",
          "state": {
            "_dom_classes": [],
            "_model_module": "@jupyter-widgets/controls",
            "_model_module_version": "1.5.0",
            "_model_name": "HTMLModel",
            "_view_count": null,
            "_view_module": "@jupyter-widgets/controls",
            "_view_module_version": "1.5.0",
            "_view_name": "HTMLView",
            "description": "",
            "description_tooltip": null,
            "layout": "IPY_MODEL_08b25443bf2f4516baf06c3e4cd04c71",
            "placeholder": "​",
            "style": "IPY_MODEL_0be836cea7cf49e9bc9fa3c2ff15c421",
            "value": "100%"
          }
        },
        "ad3ecc708a2a4b9ca3c276a2e36e0c71": {
          "model_module": "@jupyter-widgets/controls",
          "model_name": "FloatProgressModel",
          "model_module_version": "1.5.0",
          "state": {
            "_dom_classes": [],
            "_model_module": "@jupyter-widgets/controls",
            "_model_module_version": "1.5.0",
            "_model_name": "FloatProgressModel",
            "_view_count": null,
            "_view_module": "@jupyter-widgets/controls",
            "_view_module_version": "1.5.0",
            "_view_name": "ProgressView",
            "bar_style": "success",
            "description": "",
            "description_tooltip": null,
            "layout": "IPY_MODEL_b4621c4b059f41cfa7f59cc7e0e774f0",
            "max": 600,
            "min": 0,
            "orientation": "horizontal",
            "style": "IPY_MODEL_bfbd358fc1e24a78af8c5a6cdc2522a3",
            "value": 600
          }
        },
        "7797efb23dbd4ba0bf483f5444fe2e27": {
          "model_module": "@jupyter-widgets/controls",
          "model_name": "HTMLModel",
          "model_module_version": "1.5.0",
          "state": {
            "_dom_classes": [],
            "_model_module": "@jupyter-widgets/controls",
            "_model_module_version": "1.5.0",
            "_model_name": "HTMLModel",
            "_view_count": null,
            "_view_module": "@jupyter-widgets/controls",
            "_view_module_version": "1.5.0",
            "_view_name": "HTMLView",
            "description": "",
            "description_tooltip": null,
            "layout": "IPY_MODEL_c812c7a6c4274265a7af856b844b664d",
            "placeholder": "​",
            "style": "IPY_MODEL_20722e6b713240ba8461e34ddc25cbc3",
            "value": " 600/600 [01:13&lt;00:00,  9.15it/s]"
          }
        },
        "e43a1c6bb36144669dcb376343a4dcee": {
          "model_module": "@jupyter-widgets/base",
          "model_name": "LayoutModel",
          "model_module_version": "1.2.0",
          "state": {
            "_model_module": "@jupyter-widgets/base",
            "_model_module_version": "1.2.0",
            "_model_name": "LayoutModel",
            "_view_count": null,
            "_view_module": "@jupyter-widgets/base",
            "_view_module_version": "1.2.0",
            "_view_name": "LayoutView",
            "align_content": null,
            "align_items": null,
            "align_self": null,
            "border": null,
            "bottom": null,
            "display": null,
            "flex": null,
            "flex_flow": null,
            "grid_area": null,
            "grid_auto_columns": null,
            "grid_auto_flow": null,
            "grid_auto_rows": null,
            "grid_column": null,
            "grid_gap": null,
            "grid_row": null,
            "grid_template_areas": null,
            "grid_template_columns": null,
            "grid_template_rows": null,
            "height": null,
            "justify_content": null,
            "justify_items": null,
            "left": null,
            "margin": null,
            "max_height": null,
            "max_width": null,
            "min_height": null,
            "min_width": null,
            "object_fit": null,
            "object_position": null,
            "order": null,
            "overflow": null,
            "overflow_x": null,
            "overflow_y": null,
            "padding": null,
            "right": null,
            "top": null,
            "visibility": null,
            "width": null
          }
        },
        "08b25443bf2f4516baf06c3e4cd04c71": {
          "model_module": "@jupyter-widgets/base",
          "model_name": "LayoutModel",
          "model_module_version": "1.2.0",
          "state": {
            "_model_module": "@jupyter-widgets/base",
            "_model_module_version": "1.2.0",
            "_model_name": "LayoutModel",
            "_view_count": null,
            "_view_module": "@jupyter-widgets/base",
            "_view_module_version": "1.2.0",
            "_view_name": "LayoutView",
            "align_content": null,
            "align_items": null,
            "align_self": null,
            "border": null,
            "bottom": null,
            "display": null,
            "flex": null,
            "flex_flow": null,
            "grid_area": null,
            "grid_auto_columns": null,
            "grid_auto_flow": null,
            "grid_auto_rows": null,
            "grid_column": null,
            "grid_gap": null,
            "grid_row": null,
            "grid_template_areas": null,
            "grid_template_columns": null,
            "grid_template_rows": null,
            "height": null,
            "justify_content": null,
            "justify_items": null,
            "left": null,
            "margin": null,
            "max_height": null,
            "max_width": null,
            "min_height": null,
            "min_width": null,
            "object_fit": null,
            "object_position": null,
            "order": null,
            "overflow": null,
            "overflow_x": null,
            "overflow_y": null,
            "padding": null,
            "right": null,
            "top": null,
            "visibility": null,
            "width": null
          }
        },
        "0be836cea7cf49e9bc9fa3c2ff15c421": {
          "model_module": "@jupyter-widgets/controls",
          "model_name": "DescriptionStyleModel",
          "model_module_version": "1.5.0",
          "state": {
            "_model_module": "@jupyter-widgets/controls",
            "_model_module_version": "1.5.0",
            "_model_name": "DescriptionStyleModel",
            "_view_count": null,
            "_view_module": "@jupyter-widgets/base",
            "_view_module_version": "1.2.0",
            "_view_name": "StyleView",
            "description_width": ""
          }
        },
        "b4621c4b059f41cfa7f59cc7e0e774f0": {
          "model_module": "@jupyter-widgets/base",
          "model_name": "LayoutModel",
          "model_module_version": "1.2.0",
          "state": {
            "_model_module": "@jupyter-widgets/base",
            "_model_module_version": "1.2.0",
            "_model_name": "LayoutModel",
            "_view_count": null,
            "_view_module": "@jupyter-widgets/base",
            "_view_module_version": "1.2.0",
            "_view_name": "LayoutView",
            "align_content": null,
            "align_items": null,
            "align_self": null,
            "border": null,
            "bottom": null,
            "display": null,
            "flex": null,
            "flex_flow": null,
            "grid_area": null,
            "grid_auto_columns": null,
            "grid_auto_flow": null,
            "grid_auto_rows": null,
            "grid_column": null,
            "grid_gap": null,
            "grid_row": null,
            "grid_template_areas": null,
            "grid_template_columns": null,
            "grid_template_rows": null,
            "height": null,
            "justify_content": null,
            "justify_items": null,
            "left": null,
            "margin": null,
            "max_height": null,
            "max_width": null,
            "min_height": null,
            "min_width": null,
            "object_fit": null,
            "object_position": null,
            "order": null,
            "overflow": null,
            "overflow_x": null,
            "overflow_y": null,
            "padding": null,
            "right": null,
            "top": null,
            "visibility": null,
            "width": null
          }
        },
        "bfbd358fc1e24a78af8c5a6cdc2522a3": {
          "model_module": "@jupyter-widgets/controls",
          "model_name": "ProgressStyleModel",
          "model_module_version": "1.5.0",
          "state": {
            "_model_module": "@jupyter-widgets/controls",
            "_model_module_version": "1.5.0",
            "_model_name": "ProgressStyleModel",
            "_view_count": null,
            "_view_module": "@jupyter-widgets/base",
            "_view_module_version": "1.2.0",
            "_view_name": "StyleView",
            "bar_color": null,
            "description_width": ""
          }
        },
        "c812c7a6c4274265a7af856b844b664d": {
          "model_module": "@jupyter-widgets/base",
          "model_name": "LayoutModel",
          "model_module_version": "1.2.0",
          "state": {
            "_model_module": "@jupyter-widgets/base",
            "_model_module_version": "1.2.0",
            "_model_name": "LayoutModel",
            "_view_count": null,
            "_view_module": "@jupyter-widgets/base",
            "_view_module_version": "1.2.0",
            "_view_name": "LayoutView",
            "align_content": null,
            "align_items": null,
            "align_self": null,
            "border": null,
            "bottom": null,
            "display": null,
            "flex": null,
            "flex_flow": null,
            "grid_area": null,
            "grid_auto_columns": null,
            "grid_auto_flow": null,
            "grid_auto_rows": null,
            "grid_column": null,
            "grid_gap": null,
            "grid_row": null,
            "grid_template_areas": null,
            "grid_template_columns": null,
            "grid_template_rows": null,
            "height": null,
            "justify_content": null,
            "justify_items": null,
            "left": null,
            "margin": null,
            "max_height": null,
            "max_width": null,
            "min_height": null,
            "min_width": null,
            "object_fit": null,
            "object_position": null,
            "order": null,
            "overflow": null,
            "overflow_x": null,
            "overflow_y": null,
            "padding": null,
            "right": null,
            "top": null,
            "visibility": null,
            "width": null
          }
        },
        "20722e6b713240ba8461e34ddc25cbc3": {
          "model_module": "@jupyter-widgets/controls",
          "model_name": "DescriptionStyleModel",
          "model_module_version": "1.5.0",
          "state": {
            "_model_module": "@jupyter-widgets/controls",
            "_model_module_version": "1.5.0",
            "_model_name": "DescriptionStyleModel",
            "_view_count": null,
            "_view_module": "@jupyter-widgets/base",
            "_view_module_version": "1.2.0",
            "_view_name": "StyleView",
            "description_width": ""
          }
        }
      }
    }
  },
  "cells": [
    {
      "cell_type": "markdown",
      "metadata": {
        "id": "ldHBGHWGon-Y"
      },
      "source": [
        "# Reconocimiento de Patrones\n",
        "[Curso de Reconocimiento de Patrones](https://https://domingomery.ing.puc.cl/teaching/patrones/)\n",
        "\n",
        "Departamento de Ciencia de la Computación\n",
        "\n",
        "Universidad Catolica de Chile\n",
        "\n",
        "(c) Domingo Mery, http://domingomery.ing.uc.cl\n",
        "\n"
      ]
    },
    {
      "cell_type": "markdown",
      "metadata": {
        "id": "XASTjivuu7cO"
      },
      "source": [
        "# Ejercicio 05 (E05): Detección de paredes rayadas\n",
        "\n",
        "En este ejercicio se realizará la clasificación entre dos clases de \"parches\" de pared de 64x64 pixeles (en escala de grises):\n",
        "\n",
        "* Clase 0: No-Rayas (contiene parches originales de pared sin rayas). [Ver parches no rayados a color](https://www.dropbox.com/s/8501gryycq6nxn4/patches_0.png?dl=0)\n",
        "\n",
        "* Clase 1: Rayas (contiene parches originales de pared con pintas, grafitis, rayados, etc.). [Ver parches rayados a color](https://www.dropbox.com/s/0ztucomc9yvhp4a/patches_1.png?dl=0)\n",
        "\n",
        "\n",
        "\n",
        "\n",
        "La base de datos contiene 1200 imágenes de 64x64 pixeles (600 imágenes por clase).\n",
        "\n",
        "**ADVERTENCIA:** Este ejercicio tiene fines pedagógicos sólamente, con la idea de que la solución a este problema pueda ejecutarse en un par de minutos. Un buen detector de rayas sigue esta idea pero con miles de imágenes a color por clase.\n",
        "\n",
        "\n",
        "<font color='red'> **AYUDA:** \n",
        "\n",
        "<font color='green'>  Todas las funciones, librerías y códigos que Ud. debe escribir en este ejercicio E05 pueden ser obtenidas de los códigos de ejemplo vistos en clase, como por ejemplo el código de solución del [Ejercicio E04](https://drive.google.com/file/d/1p2_IWE1DncJ8P29VCvex031xTgPQUqFL/view?usp=sharing).\n",
        "\n",
        "\n"
      ]
    },
    {
      "cell_type": "markdown",
      "source": [
        "\n",
        "# Pregunta 1: Setup inicial \n",
        "\n",
        "(1 punto)\n",
        "\n",
        "Liberías necesarias para que funcione el algoritmo."
      ],
      "metadata": {
        "id": "LNzfK0v3Tfmz"
      }
    },
    {
      "cell_type": "markdown",
      "metadata": {
        "id": "x-r9zRXMdBOM"
      },
      "source": [
        "## Instalación de Balu3\n",
        "\n",
        "[Balu3](https://github.com/domingomery/balu3) es una librería creada para reconocimiento de patrones. \n",
        "\n",
        "La instalación se realiza clonando el repositorio de GitHub (use el comando `!git clone ...`) e instalando la librería (use el comando `!pip install ...`\n",
        "\n",
        "<font color='red'> **SALIDA ESPERADA:** \n",
        "\n",
        "`:`\n",
        "\n",
        "`Successfully built balu3`\n",
        "\n",
        "`Installing collected packages: balu3`\n",
        "\n",
        "`Successfully installed balu3-1.0`\n"
      ]
    },
    {
      "cell_type": "code",
      "metadata": {
        "id": "XX-Xb2Igk2jQ",
        "colab": {
          "base_uri": "https://localhost:8080/"
        },
        "outputId": "52ff9569-6dd4-40d1-cd9d-30699a7590a3"
      },
      "source": [
        "#\n",
        "# INGRESE CODIGO PARA DESCARGAR E INSTALAR BALU3\n",
        "# (no inventar, usar código de Ejercicio 04 ,ver AYUDA al inicio de este Colab)\n",
        "# (son dos líneas de código)\n",
        "#\n",
        "\n",
        "!git clone https://github.com/domingomery/balu3\n",
        "!pip install ./balu3"
      ],
      "execution_count": 1,
      "outputs": [
        {
          "output_type": "stream",
          "name": "stdout",
          "text": [
            "Cloning into 'balu3'...\n",
            "remote: Enumerating objects: 236, done.\u001b[K\n",
            "remote: Counting objects: 100% (236/236), done.\u001b[K\n",
            "remote: Compressing objects: 100% (167/167), done.\u001b[K\n",
            "remote: Total 236 (delta 138), reused 157 (delta 65), pack-reused 0\u001b[K\n",
            "Receiving objects: 100% (236/236), 66.26 KiB | 4.73 MiB/s, done.\n",
            "Resolving deltas: 100% (138/138), done.\n",
            "Looking in indexes: https://pypi.org/simple, https://us-python.pkg.dev/colab-wheels/public/simple/\n",
            "Processing ./balu3\n",
            "  Preparing metadata (setup.py) ... \u001b[?25l\u001b[?25hdone\n",
            "Building wheels for collected packages: balu3\n",
            "  Building wheel for balu3 (setup.py) ... \u001b[?25l\u001b[?25hdone\n",
            "  Created wheel for balu3: filename=balu3-1.0-py3-none-any.whl size=43686 sha256=39c25c4ff9e2c43c1fae8bb765897dba27babbac8cf188baeafd22392ec58c61\n",
            "  Stored in directory: /tmp/pip-ephem-wheel-cache-1r6duocj/wheels/16/25/1e/631c042e986997d66481af1f42bd9a1f0937c379ca8d6f32fb\n",
            "Successfully built balu3\n",
            "Installing collected packages: balu3\n",
            "Successfully installed balu3-1.0\n"
          ]
        }
      ]
    },
    {
      "cell_type": "markdown",
      "metadata": {
        "id": "X9daVUmmTSBW"
      },
      "source": [
        "## Setup de librerías"
      ]
    },
    {
      "cell_type": "code",
      "metadata": {
        "id": "xUXeMCxoTRH8"
      },
      "source": [
        "#\n",
        "# INGRESE AQUI CODIGO PARA IMPORTAR LIBRERIAS DE NUMPY Y MATPLOTLIB \n",
        "# (no inventar, usar código de Ejercicio 04 ,ver AYUDA al inicio de este Colab)\n",
        "# (son dos líneas de código)\n",
        "#\n",
        "\n",
        "import numpy             as     np\n",
        "import matplotlib.pyplot as     plt"
      ],
      "execution_count": 2,
      "outputs": []
    },
    {
      "cell_type": "code",
      "source": [
        "#\n",
        "# INGRESE AQUI CODIGO PARA IMPORTAR LAS SIGUIENTES FUNCIONES:\n",
        "# tqdm, lbp, haralick, gabor, hog, imageload\n",
        "# (no inventar, usar código de Ejercicio 04 ,ver AYUDA al inicio de este Colab)\n",
        "# (son tres líneas de código)\n",
        "#\n",
        "\n",
        "from   tqdm.auto         import tqdm\n",
        "from   balu3.fx.chr      import lbp, haralick, gabor, hog\n",
        "from   balu3.io.misc     import imageload"
      ],
      "metadata": {
        "id": "dxY4qSaMdVcJ"
      },
      "execution_count": 3,
      "outputs": []
    },
    {
      "cell_type": "markdown",
      "metadata": {
        "id": "dYCCyCrTYVYQ"
      },
      "source": [
        "## Funciones necesarias"
      ]
    },
    {
      "cell_type": "code",
      "metadata": {
        "id": "V7PwerxH4rxx"
      },
      "source": [
        "#\n",
        "# EJECUTAR ESTA CELDA SIN MODIFICARLA\n",
        "# (las funciones usadas en los códigos de ejemplo ahora son parte de Balu3)\n",
        "#\n",
        "\n",
        "from   balu3.cl.basics import SplitTrainTest # Separación entre training y testing\n",
        "from   balu3.cl.basics import ClassifierKNN  # Clasificación usando KNN con 1 vecino\n",
        "\n",
        "# EJEMPLO DE USO:\n",
        "# Xtrain,ytrain,Xtest,ytest = SplitTrainTest(X,y,n) # las primeras n muestras de cada clase de X son training, el resto es testing\n",
        "# acc,C = ClassifierKNN(Xtrain,ytrain,Xtest,ytest)  # calculo de accuracy y matriz de confusion"
      ],
      "execution_count": 4,
      "outputs": []
    },
    {
      "cell_type": "markdown",
      "source": [
        "## ADVERTENCIA\n",
        "\n",
        "<font color='red'> PARA LA EJECUCIÓN DE ESTA TAREA NO DEBE USAR OTRAS LIBRERÍAS \n",
        "\n",
        "(sólo está permitido usar las librerías definidas en las celdas anteriores)"
      ],
      "metadata": {
        "id": "XOsb9_KvUAQ8"
      }
    },
    {
      "cell_type": "markdown",
      "metadata": {
        "id": "sOcwbiQYYPag"
      },
      "source": [
        "# Pregunta 2: Carga de base de datos y despliegue de imagen `W_01_002.png`\n",
        "\n",
        "(1 punto)\n",
        "\n",
        "La base de datos consiste en 2 clases con 600 imágenes por clase. Se almacenan en la carpeta `rayas` con el formato `W_xx_nnn.png`, donde `xx` es el ID de la clase (01 para no-rayas, 02 para raya) y `nnn` es el número de la foto de la clase (001, 002, ... 600). Las fotos son de 64x64 pixeles en escala de grises.\n",
        "\n",
        "\n",
        "Carga la base de datos, descargando el archivo rayas.zip que se encuentra en este link: `https://www.dropbox.com/s/08nu4a4mayk7kj2/rayas.zip`. Una vez descargado el archivo zip, debes descomprimirlo.\n",
        "\n",
        "Finalmente, usando `imageload` y la librería `matplotlib` despliegue la imagen `W_01_002.png` que se encuentra en el directorio `rayas`. La imagen debe guardarse en la variable `ImgPrueba`. \n",
        "\n",
        "* Use el comando `!wget ...` para descargar el archivo zip\n",
        "\n",
        "* Use el comando `!unzip -qq ...` para descomprimir el archivo zip\n",
        "\n",
        "<font color='red'> **SALIDA ESPERADA:** \n",
        "\n",
        "`:`\n",
        "\n",
        "`Saving to: ‘rayas.zip’`\n",
        "\n",
        "`rayas.zip ...` \n",
        "\n",
        "`:`\n",
        "\n"
      ]
    },
    {
      "cell_type": "code",
      "metadata": {
        "id": "BMYOlpLpzHQJ",
        "colab": {
          "base_uri": "https://localhost:8080/"
        },
        "outputId": "b84d7f90-70bf-450f-8df3-0f5cc7a36b54"
      },
      "source": [
        "# Carga de base de datos\n",
        "\n",
        "# COMPLETAR AQUI DOS LINEAS DE CODIGO\n",
        "# Linea 1: comando para bajar archivo zip desde dropbox\n",
        "# Linea 2: comando para descomprimir el archivo zip bajado en la linea 1\n",
        "# Al final de la ejecucion debe haberse creado la carpeta rayas con 1200 imágenes\n",
        "# (son dos líneas de código)\n",
        "#\n",
        "\n",
        "\n",
        "!wget https://www.dropbox.com/s/08nu4a4mayk7kj2/rayas.zip\n",
        "!unzip -qq rayas.zip\n"
      ],
      "execution_count": 5,
      "outputs": [
        {
          "output_type": "stream",
          "name": "stdout",
          "text": [
            "--2023-04-13 16:24:10--  https://www.dropbox.com/s/08nu4a4mayk7kj2/rayas.zip\n",
            "Resolving www.dropbox.com (www.dropbox.com)... 162.125.2.18, 2620:100:6028:18::a27d:4712\n",
            "Connecting to www.dropbox.com (www.dropbox.com)|162.125.2.18|:443... connected.\n",
            "HTTP request sent, awaiting response... 302 Found\n",
            "Location: /s/raw/08nu4a4mayk7kj2/rayas.zip [following]\n",
            "--2023-04-13 16:24:14--  https://www.dropbox.com/s/raw/08nu4a4mayk7kj2/rayas.zip\n",
            "Reusing existing connection to www.dropbox.com:443.\n",
            "HTTP request sent, awaiting response... 302 Found\n",
            "Location: https://ucd7df7cfdccd90fd272358e1d3e.dl.dropboxusercontent.com/cd/0/inline/B6GUP41wSh72AMuUa97Lwbd_r6CyIGUE6eW3ZOB5Ba6FgIOO4fkt_RAkoPg6HyArgTEWwpKlOXzD1nvvJ0_ZZibFxh4Bk5JDA1Z7SAeGM_llSZfcfYL0RGKizREvLlgtROry3eau9fzXw79XcYy3OfeftK_Qvsgb4rZ74w74sLSLkQ/file# [following]\n",
            "--2023-04-13 16:24:15--  https://ucd7df7cfdccd90fd272358e1d3e.dl.dropboxusercontent.com/cd/0/inline/B6GUP41wSh72AMuUa97Lwbd_r6CyIGUE6eW3ZOB5Ba6FgIOO4fkt_RAkoPg6HyArgTEWwpKlOXzD1nvvJ0_ZZibFxh4Bk5JDA1Z7SAeGM_llSZfcfYL0RGKizREvLlgtROry3eau9fzXw79XcYy3OfeftK_Qvsgb4rZ74w74sLSLkQ/file\n",
            "Resolving ucd7df7cfdccd90fd272358e1d3e.dl.dropboxusercontent.com (ucd7df7cfdccd90fd272358e1d3e.dl.dropboxusercontent.com)... 162.125.2.15, 2620:100:6021:15::a27d:410f\n",
            "Connecting to ucd7df7cfdccd90fd272358e1d3e.dl.dropboxusercontent.com (ucd7df7cfdccd90fd272358e1d3e.dl.dropboxusercontent.com)|162.125.2.15|:443... connected.\n",
            "HTTP request sent, awaiting response... 302 Found\n",
            "Location: /cd/0/inline2/B6HeEPCSsuoU6oxfSIdsSQt_-wcMnPzwL7EE3BNKt1FD-DVYrvmoxBluEAO7DM61D1Pq2SMHufpyzJEn1gR4unpg5XBSoNLufBAxHwADMvCoRNZW63AXtszeiC6eV8k8UKlVeybIqIGpfVR17o-GL3VIhm9W2mKan1lYkuTQru1Ss6_YlOLuEFL-RUTD1LIho4IAEhVGRgyRp1-6-QzvMMV8yWpE8m_tV8Qrwq2RP-_jf1MVen0_cjNxtKPUqLCiDDm670pqVAamdBdkjNpzXC8zQlDTxpVQzRpmNcuk2qju7KXqqb_ZqLXc3jehlz3UHjCDTiU-Ic3mO9lwh1_bLyDuTnw5pFa7smVzage8V0JOgmVW41SAoilOT3ckmcgazdA-vqaoXF13qo-0uqPec8IX6gI4xKr-X2-fHFSrV9du4w/file [following]\n",
            "--2023-04-13 16:24:16--  https://ucd7df7cfdccd90fd272358e1d3e.dl.dropboxusercontent.com/cd/0/inline2/B6HeEPCSsuoU6oxfSIdsSQt_-wcMnPzwL7EE3BNKt1FD-DVYrvmoxBluEAO7DM61D1Pq2SMHufpyzJEn1gR4unpg5XBSoNLufBAxHwADMvCoRNZW63AXtszeiC6eV8k8UKlVeybIqIGpfVR17o-GL3VIhm9W2mKan1lYkuTQru1Ss6_YlOLuEFL-RUTD1LIho4IAEhVGRgyRp1-6-QzvMMV8yWpE8m_tV8Qrwq2RP-_jf1MVen0_cjNxtKPUqLCiDDm670pqVAamdBdkjNpzXC8zQlDTxpVQzRpmNcuk2qju7KXqqb_ZqLXc3jehlz3UHjCDTiU-Ic3mO9lwh1_bLyDuTnw5pFa7smVzage8V0JOgmVW41SAoilOT3ckmcgazdA-vqaoXF13qo-0uqPec8IX6gI4xKr-X2-fHFSrV9du4w/file\n",
            "Reusing existing connection to ucd7df7cfdccd90fd272358e1d3e.dl.dropboxusercontent.com:443.\n",
            "HTTP request sent, awaiting response... 200 OK\n",
            "Length: 3412127 (3.3M) [application/zip]\n",
            "Saving to: ‘rayas.zip’\n",
            "\n",
            "rayas.zip           100%[===================>]   3.25M  3.01MB/s    in 1.1s    \n",
            "\n",
            "2023-04-13 16:24:18 (3.01 MB/s) - ‘rayas.zip’ saved [3412127/3412127]\n",
            "\n"
          ]
        }
      ]
    },
    {
      "cell_type": "markdown",
      "source": [
        "Cargue la imagen `W_01_002.png` con la funcion `imageload` y despliéguela con la librería `matplotlib`\n",
        "\n",
        "<font color='red'> **SALIDA ESPERADA:** \n",
        "\n",
        "* Una imagen en blanco y negro de un detalle de una puerta de 64x64 pixeles"
      ],
      "metadata": {
        "id": "5ueh4D0nkl43"
      }
    },
    {
      "cell_type": "code",
      "source": [
        "# Ingrese código para desplegar imagen W_01_002.png (usando imageload y librería matplotlib)\n",
        "#\n",
        "\n",
        "clase     = 1                      # <= NÚMERO DE LA CLASE\n",
        "dig_clase = 2                      # <= NÚMERO DE DÍGITOS POR CLASE\n",
        "num_img   = 2                      # <= NÚMERO DE LA IMAGEN\n",
        "dig_img   = 3                      # <= NÚMERO DE DÍGITOS POR NÚMERO DE IMAGEN\n",
        "fpath     = 'rayas'                # <= DIRERCTORIO DE LA BASE DE DATOS\n",
        "prefix    = 'W_'                   # <= PREFIJO DEL NOMBRE DEL ARCHIVO DE LA IMAGEN\n",
        "imprefix  = fpath + '/' + prefix\n",
        "\n",
        "ImgPrueba = 255*imageload(imprefix,clase,dig_clase,num_img,dig_img,echo='on')\n",
        "\n",
        "plt.imshow(ImgPrueba,cmap='gray')        # <= DESPLEGAR ImgPrueba EN TONOS DE GRIS\n",
        "plt.show()\n"
      ],
      "metadata": {
        "id": "v0KWmtkFIcBf",
        "colab": {
          "base_uri": "https://localhost:8080/",
          "height": 449
        },
        "outputId": "396a5213-f4bd-4863-f2b6-f09db56ad2fd"
      },
      "execution_count": 6,
      "outputs": [
        {
          "output_type": "stream",
          "name": "stdout",
          "text": [
            "loading image rayas/W_01_002.png...\n"
          ]
        },
        {
          "output_type": "display_data",
          "data": {
            "text/plain": [
              "<Figure size 640x480 with 1 Axes>"
            ],
            "image/png": "[encoded data removed]"
          },
          "metadata": {}
        }
      ]
    },
    {
      "cell_type": "markdown",
      "metadata": {
        "id": "yYHxPwnTYhXs"
      },
      "source": [
        "# Pregunta 3: Extracción de características\n",
        "\n",
        "(10 puntos)\n",
        "\n",
        "En esta pregunta se debe realizar la extracción de características de las 1200 imágenes. Las características a extraer deben ser 1) LBP, 2) HoG, 3) Gabor y 4) Haralick.\n",
        "\n",
        "\n",
        "<font color='red'> **SALIDA ESPERADA:** \n",
        "\n",
        "\n",
        "La salida de esta celda (Pregunta 3) deben ser 4 matrices de 1200 filas y `m` columnas y un vector de 1200 elementos de la siguiente manera: \n",
        "\n",
        "* Matriz `X1` para LBP (calcular el LBP usando una sola partición de 59 elementos, `m=59`)\n",
        "\n",
        "* Matriz `X2` para HoG (calcular el HoG usando una sola celda de 9 bins,`m=9`)\n",
        "\n",
        "* Matriz `X3` para Gabor (calcular Gabor usando con 8 rotaciones y 8 escalas, `m=67`)\n",
        "\n",
        "* Matriz `X4` para Haralick (calcular el LBP usando distancia 3, `m=24`)\n",
        "\n",
        "* Vector `y` para el Ground Truth de cada muestra (este vector debe ser un array del tipo `int` con 1200 elementos) \n",
        "\n",
        "<font color='red'> Para escribir este código reutilice los códigos vistos en clase, como por ejemplo la pregunta 3 del [Ejercicio E04](https://drive.google.com/file/d/1p2_IWE1DncJ8P29VCvex031xTgPQUqFL/view?usp=sharing).\n"
      ]
    },
    {
      "cell_type": "code",
      "metadata": {
        "id": "ASGRTqKTLYNa",
        "colab": {
          "base_uri": "https://localhost:8080/",
          "height": 133,
          "referenced_widgets": [
            "3c6bd86499a544509dd7ab66f943dfae",
            "fab4a7122d46468da71b1d505d99c335",
            "59cd265c3ca048f68b1d5df462f6d662",
            "6620535f3f2d414f847067409b2c2014",
            "628527cb60954326b8ccf18ace951668",
            "f08667b48c15491baed4f8cdda28bd70",
            "4987dca94e4844079145729936cf82ee",
            "fe6ad3c782b34f9cb8d4e9b815f94f68",
            "dc1d48f1bc694f158831b543a5698292",
            "83302ee207924e34897f855706a10215",
            "10e3d0592ff3418abd763bafec2fd3ae",
            "1baa7c9d83cc46688c81507e806e3f73",
            "83c09b2488c64f8b913d9c2393020afc",
            "ad3ecc708a2a4b9ca3c276a2e36e0c71",
            "7797efb23dbd4ba0bf483f5444fe2e27",
            "e43a1c6bb36144669dcb376343a4dcee",
            "08b25443bf2f4516baf06c3e4cd04c71",
            "0be836cea7cf49e9bc9fa3c2ff15c421",
            "b4621c4b059f41cfa7f59cc7e0e774f0",
            "bfbd358fc1e24a78af8c5a6cdc2522a3",
            "c812c7a6c4274265a7af856b844b664d",
            "20722e6b713240ba8461e34ddc25cbc3"
          ]
        },
        "outputId": "40a38532-66e1-4dfd-961a-44ff1c4d9407"
      },
      "source": [
        "# INGRESE CODIGO PARA EXTRAER CARACTERISTICAS\n",
        "#\n",
        "# (no inventar, usar código de Ejercicio 04 ,ver AYUDA al inicio de este Colab)\n",
        "#\n",
        "# Al final de la ejecución de este código deben haber sido creadas:\n",
        "#\n",
        "# Matriz X1\n",
        "# Matriz X2 \n",
        "# Matriz X3 \n",
        "# Matriz X4 \n",
        "# Vector y\n",
        "#\n",
        "\n",
        "\n",
        "K    = 2     # <= NUMERO DE CLASES\n",
        "N    = 600   # <= NUMERO DE IMAGENES POR CLASE\n",
        "Mlbp = 59    # <= NUMERO DE ELEMENTOS DEL VECTOR LBP\n",
        "Mhog = 9     # <= NUMERO DE ELEMENTOS DEL VECTOR DE HoG\n",
        "Mgab = 67    # <= NUMERO DE ELEMENTOS DEL VECTOR DE GABOR\n",
        "Mhar = 24    # <= NUMERO DE ELEMENTOS DEL VECTOR DE HARALICK\n",
        "\n",
        "X1  = np.zeros((K*N,Mlbp))    # K*N muestras (filas), y Mlbp características (columnas)\n",
        "X2  = np.zeros((K*N,Mhog))    # K*N muestras (filas), y Mhog características (columnas)\n",
        "X3  = np.zeros((K*N,Mgab))    # K*N muestras (filas), y Mgab características (columnas)\n",
        "X4  = np.zeros((K*N,Mhar))    # K*N muestras (filas), y Mhar características (columnas)\n",
        "\n",
        "y     = np.zeros((K*N),'int')   # ground truth (clasificacion ideal)\n",
        "\n",
        "t = 0\n",
        "\n",
        "print('Cargando imagenes y extrayendo características...')\n",
        "for j in range(K):            # para cada clase\n",
        "  print('Extrayendo características: batch '+str(j+1)+'/'+str(K))\n",
        "  for i in tqdm(range(N)):                # para cada imagen de la clase\n",
        "    # Lectura de la imagen\n",
        "    clase     = j+1\n",
        "    num_img   = i+1\n",
        "    img       = 255*imageload(imprefix,clase,dig_clase,num_img,dig_img) # <= LEER LA IMAGEN CORRESPONDIENTE\n",
        "\n",
        "    # Extracción de características\n",
        "\n",
        "    # LBP clásico de 1x1 particiones\n",
        "    X1[t,:] = lbp(img, hdiv=1, vdiv=1)               # <= EXTRAER LBP\n",
        "\n",
        "    # HoG clásico de 1x1 particiones\n",
        "    X2[t,:] = hog(img, orientations=9, pixels_per_cell=(64,64),cells_per_block=(1,1),norm=False)   # <= EXTRAER HOG\n",
        "\n",
        "    # Gabor con 8 rotaciones y 8 escalas\n",
        "    X3[t,:] = gabor(img, rotations=8, dilations=8) # <= EXTRAER GABOR\n",
        "\n",
        "    # Haralick con d = 3 pixeles\n",
        "    X4[t,:] = haralick(img, distance=3)            # <= EXTRAER HARALICK\n",
        "\n",
        "  \n",
        "\n",
        "    y[t] = j # la muestra t pertenece a la clase j\n",
        "    t = t+1\n",
        "\n"
      ],
      "execution_count": 7,
      "outputs": [
        {
          "output_type": "stream",
          "name": "stdout",
          "text": [
            "Cargando imagenes y extrayendo características...\n",
            "Extrayendo características: batch 1/2\n"
          ]
        },
        {
          "output_type": "display_data",
          "data": {
            "text/plain": [
              "  0%|          | 0/600 [00:00<?, ?it/s]"
            ],
            "application/vnd.jupyter.widget-view+json": {
              "version_major": 2,
              "version_minor": 0,
              "model_id": "3c6bd86499a544509dd7ab66f943dfae"
            }
          },
          "metadata": {}
        },
        {
          "output_type": "stream",
          "name": "stdout",
          "text": [
            "Extrayendo características: batch 2/2\n"
          ]
        },
        {
          "output_type": "display_data",
          "data": {
            "text/plain": [
              "  0%|          | 0/600 [00:00<?, ?it/s]"
            ],
            "application/vnd.jupyter.widget-view+json": {
              "version_major": 2,
              "version_minor": 0,
              "model_id": "1baa7c9d83cc46688c81507e806e3f73"
            }
          },
          "metadata": {}
        }
      ]
    },
    {
      "cell_type": "markdown",
      "metadata": {
        "id": "J88eVidHdI6P"
      },
      "source": [
        "## Considere que...\n",
        "\n",
        "En la Pregunta 3 fueron extraídas las características para todas las imágenes de la base de datos. No olvidar que son 600 imágenes por clase, y que son 2 clases. En este Ejercicio, el clasificador será  un clasificador KNN de 1 vecino que será entrenado (training) con las primeras 450 muestras de cada clase, y probado (testing) con las 150 restantes por clase.\n",
        "\n"
      ]
    },
    {
      "cell_type": "markdown",
      "metadata": {
        "id": "Xd5riXIEhUgS"
      },
      "source": [
        "# Pregunta 4: Definición de características a utilizar\n",
        "\n",
        "(1 punto)\n",
        "\n",
        "A partir de las variables `X1`, `X2`, `X3`, `X4` del paso anterior, defina la matriz `X` a partir de una concatenación de (algunas de) las caracetrísticas extraídas. La forma de combinar las características es libre, es decir `X` puede ser Gabor y HOG, o bien LBP, HoG y Haralick, u otras combinaciones."
      ]
    },
    {
      "cell_type": "code",
      "metadata": {
        "id": "X2j5_4sOh2ua"
      },
      "source": [
        "# INGRESE CODIGO DE CONCATENACION\n",
        "# Al final de esta ejecución debe haber sido creada la matriz X\n",
        "# (una línea de código)\n",
        "#\n",
        "\n",
        "X = np.concatenate((X1,X2,X4), axis=1)  # <= CONCATENACIÓN DE LBP, HoG Y Haralick"
      ],
      "execution_count": 8,
      "outputs": []
    },
    {
      "cell_type": "markdown",
      "metadata": {
        "id": "VmzJeLdPkWCA"
      },
      "source": [
        "# Pregunta 5: Separación Training / Testing\n",
        "\n",
        "(1 punto)\n",
        "\n",
        "El conjunto de training debe contener las primeras 450 muestras por clase. El conjunto de testing debe contener las restantes 150 muestras por clase.\n",
        "\n",
        "Separar `X,y` en `Xtrain,ytrain`, `Xtest,ytest`\n",
        "\n",
        "Ayuda: usar función `SplitTrainTest` definida más arriba en la seeción \"Funciones Necesarias\"."
      ]
    },
    {
      "cell_type": "code",
      "metadata": {
        "id": "ABthai1wkwVS"
      },
      "source": [
        "# INGRESE CODIGO DE SEPARACION TRAIN/TEST\n",
        "# Al final de esta ejecución debe haber sido creadas las variables Xtrain,ytrain,Xtest,ytest\n",
        "# (una línea de código)\n",
        "#\n",
        "\n",
        "Xtrain,ytrain,Xtest,ytest = SplitTrainTest(X,y,450) # <= FUNCION QUE SEPARA TRAINING Y TESTING"
      ],
      "execution_count": 9,
      "outputs": []
    },
    {
      "cell_type": "markdown",
      "metadata": {
        "id": "v_zcqYc7m0Qt"
      },
      "source": [
        "# Pregunta 5: Clasificación\n",
        "\n",
        "(4 puntos)\n",
        "\n",
        "Diseñar el clasificador usando `Xtrain,ytrain`, pruebe el clasificador en `Xtest`, y compare la clasifición con `ytest`.\n",
        "\n",
        "Ayuda: usar funcion `ClassifierKNN` definida más arriba en la seeción \"Funciones Necesarias\".\n",
        "\n",
        "La salida de esta celda debe ser `acc` para el Accuracy, y `C` para la matriz de confusión de 2x2 elementos.\n"
      ]
    },
    {
      "cell_type": "code",
      "metadata": {
        "id": "lUpjHFPlm-Y4",
        "colab": {
          "base_uri": "https://localhost:8080/"
        },
        "outputId": "1a54b054-b463-4978-9aef-6e75edae0946"
      },
      "source": [
        "# INGRESE CODIGO DE CLASIFICACIÓN Y EVALUACIÓN\n",
        "# Al final de esta ejecución debe haber sido creada la variable acc y la matriz de confusion C\n",
        "# (una línea de código)\n",
        "#\n",
        "\n",
        "acc,C = ClassifierKNN(Xtrain,ytrain,Xtest,ytest)  # calculo de accuracy y matriz de confusion"
      ],
      "execution_count": 10,
      "outputs": [
        {
          "output_type": "stream",
          "name": "stdout",
          "text": [
            "Entrenando con 900 muestras y probando con 300 muestras\n",
            "Testing Accuracy = 91.33333333333333%\n",
            "Matriz de Confusión:\n",
            "[[135  15]\n",
            " [ 11 139]]\n"
          ]
        }
      ]
    },
    {
      "cell_type": "markdown",
      "source": [
        "<font color='orange'>**IMPORTANTE:** El Accuracy debe ser 91.0% o más.\n"
      ],
      "metadata": {
        "id": "EcAr6Vav_xML"
      }
    },
    {
      "cell_type": "code",
      "source": [
        "#\n",
        "# EJECUTAR ESTA CELDA SIN MODIFICARLA\n",
        "#\n",
        "\n",
        "print('P1: ImgPrueba(12,15):',ImgPrueba[12,15])\n",
        "print('P2:       LBP (2,20):',X1[2,20])\n",
        "print('P2:       HOG (2, 7):',X2[2,7])\n",
        "print('P2:       GAB (2,20):',X3[2,20])\n",
        "print('P2:       HAR (2,20):',X4[2,20])\n",
        "print('P2:      GroundTruth:',y[10],y[1100])\n",
        "print('P3:         SIZE (X):',X.shape)\n",
        "print('P4:    SIZE (Xtrain):',Xtrain.shape)\n",
        "print('P4:     SIZE (Xtest):',Xtest.shape)\n",
        "print('P5:              ACC:',acc*100)\n",
        "print('P5:         SIZE (C):',C.shape)\n"
      ],
      "metadata": {
        "id": "8trBefUi0c2q",
        "colab": {
          "base_uri": "https://localhost:8080/"
        },
        "outputId": "1d198b57-248b-4407-c1e7-81dfcb439055"
      },
      "execution_count": 11,
      "outputs": [
        {
          "output_type": "stream",
          "name": "stdout",
          "text": [
            "P1: ImgPrueba(12,15): 156.0\n",
            "P2:       LBP (2,20): 13.0\n",
            "P2:       HOG (2, 7): 0.38260430097579956\n",
            "P2:       GAB (2,20): 351.07701831843616\n",
            "P2:       HAR (2,20): 0.00795395852929321\n",
            "P2:      GroundTruth: 0 1\n",
            "P3:         SIZE (X): (1200, 92)\n",
            "P4:    SIZE (Xtrain): (900, 92)\n",
            "P4:     SIZE (Xtest): (300, 92)\n",
            "P5:              ACC: 91.33333333333333\n",
            "P5:         SIZE (C): (2, 2)\n"
          ]
        }
      ]
    },
    {
      "cell_type": "markdown",
      "source": [
        "# VERIFICACION FINAL\n",
        "\n",
        "<font color='red'> **ADVERTENCIA:** Este ejercicio será evaluado de la siguiente manera: si el código funciona y el resultado es correcto, la pregunta tendrá un 100% de la evaluación, en caso contrario 0%. Para asegurarse que el código se ejecute sin caídas seleccione la opción del menú:\n",
        "\n",
        "1) <font color='orange'> 'Runtime' + 'Disconnect and delete runtime' (inicializa todo)\n",
        "\n",
        "2) <font color='orange'> 'Run all'\n",
        "\n",
        "<font color='red'> El código debería ejecutarse desde el inicio hasta el final sin problema alguno."
      ],
      "metadata": {
        "id": "SIHd7b12aNfh"
      }
    },
    {
      "cell_type": "markdown",
      "source": [
        "# PASO FINAL: Subir tarea\n",
        "\n",
        "<font color='orange'> **ADVERTENCIA FINAL:** Este archivo, que debe llamarse [tu RUT].ipynb, (el RUT debe ser sin puntos ni guion) y debe subirse a Canvas según la hora señalada para la actividad E05."
      ],
      "metadata": {
        "id": "WOgjipm-pqAY"
      }
    }
  ]
}