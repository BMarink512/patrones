{
  "nbformat": 4,
  "nbformat_minor": 0,
  "metadata": {
    "colab": {
      "provenance": []
    },
    "kernelspec": {
      "name": "python3",
      "display_name": "Python 3"
    },
    "language_info": {
      "name": "python"
    },
    "widgets": {
      "application/vnd.jupyter.widget-state+json": {
        "9ca5321baf9a49d6bcc42ec201664c2f": {
          "model_module": "@jupyter-widgets/controls",
          "model_name": "HBoxModel",
          "model_module_version": "1.5.0",
          "state": {
            "_dom_classes": [],
            "_model_module": "@jupyter-widgets/controls",
            "_model_module_version": "1.5.0",
            "_model_name": "HBoxModel",
            "_view_count": null,
            "_view_module": "@jupyter-widgets/controls",
            "_view_module_version": "1.5.0",
            "_view_name": "HBoxView",
            "box_style": "",
            "children": [
              "IPY_MODEL_2fd28a3d043a4ae1bc0c7ea54443f6ca",
              "IPY_MODEL_f510f0002f7a4d42b40d063ffacae972",
              "IPY_MODEL_691316334f4141dd8c19548d18c717c9"
            ],
            "layout": "IPY_MODEL_cac93d6857d6421ba58729b82247a516"
          }
        },
        "2fd28a3d043a4ae1bc0c7ea54443f6ca": {
          "model_module": "@jupyter-widgets/controls",
          "model_name": "HTMLModel",
          "model_module_version": "1.5.0",
          "state": {
            "_dom_classes": [],
            "_model_module": "@jupyter-widgets/controls",
            "_model_module_version": "1.5.0",
            "_model_name": "HTMLModel",
            "_view_count": null,
            "_view_module": "@jupyter-widgets/controls",
            "_view_module_version": "1.5.0",
            "_view_name": "HTMLView",
            "description": "",
            "description_tooltip": null,
            "layout": "IPY_MODEL_199068560bcf414fa460aae9e78021e9",
            "placeholder": "​",
            "style": "IPY_MODEL_47b2ae17d3d749758124fb6aef80d30a",
            "value": "100%"
          }
        },
        "f510f0002f7a4d42b40d063ffacae972": {
          "model_module": "@jupyter-widgets/controls",
          "model_name": "FloatProgressModel",
          "model_module_version": "1.5.0",
          "state": {
            "_dom_classes": [],
            "_model_module": "@jupyter-widgets/controls",
            "_model_module_version": "1.5.0",
            "_model_name": "FloatProgressModel",
            "_view_count": null,
            "_view_module": "@jupyter-widgets/controls",
            "_view_module_version": "1.5.0",
            "_view_name": "ProgressView",
            "bar_style": "success",
            "description": "",
            "description_tooltip": null,
            "layout": "IPY_MODEL_5c2ee2673b4b40d3b5104fcc8056e90e",
            "max": 340,
            "min": 0,
            "orientation": "horizontal",
            "style": "IPY_MODEL_d6cfb3a812644cc3904c55bc0010673b",
            "value": 340
          }
        },
        "691316334f4141dd8c19548d18c717c9": {
          "model_module": "@jupyter-widgets/controls",
          "model_name": "HTMLModel",
          "model_module_version": "1.5.0",
          "state": {
            "_dom_classes": [],
            "_model_module": "@jupyter-widgets/controls",
            "_model_module_version": "1.5.0",
            "_model_name": "HTMLModel",
            "_view_count": null,
            "_view_module": "@jupyter-widgets/controls",
            "_view_module_version": "1.5.0",
            "_view_name": "HTMLView",
            "description": "",
            "description_tooltip": null,
            "layout": "IPY_MODEL_57a5e039cf85409685226744e10b383b",
            "placeholder": "​",
            "style": "IPY_MODEL_bf71d776dbc447f099b59a3eca9b60c6",
            "value": " 340/340 [00:01&lt;00:00, 221.98it/s]"
          }
        },
        "cac93d6857d6421ba58729b82247a516": {
          "model_module": "@jupyter-widgets/base",
          "model_name": "LayoutModel",
          "model_module_version": "1.2.0",
          "state": {
            "_model_module": "@jupyter-widgets/base",
            "_model_module_version": "1.2.0",
            "_model_name": "LayoutModel",
            "_view_count": null,
            "_view_module": "@jupyter-widgets/base",
            "_view_module_version": "1.2.0",
            "_view_name": "LayoutView",
            "align_content": null,
            "align_items": null,
            "align_self": null,
            "border": null,
            "bottom": null,
            "display": null,
            "flex": null,
            "flex_flow": null,
            "grid_area": null,
            "grid_auto_columns": null,
            "grid_auto_flow": null,
            "grid_auto_rows": null,
            "grid_column": null,
            "grid_gap": null,
            "grid_row": null,
            "grid_template_areas": null,
            "grid_template_columns": null,
            "grid_template_rows": null,
            "height": null,
            "justify_content": null,
            "justify_items": null,
            "left": null,
            "margin": null,
            "max_height": null,
            "max_width": null,
            "min_height": null,
            "min_width": null,
            "object_fit": null,
            "object_position": null,
            "order": null,
            "overflow": null,
            "overflow_x": null,
            "overflow_y": null,
            "padding": null,
            "right": null,
            "top": null,
            "visibility": null,
            "width": null
          }
        },
        "199068560bcf414fa460aae9e78021e9": {
          "model_module": "@jupyter-widgets/base",
          "model_name": "LayoutModel",
          "model_module_version": "1.2.0",
          "state": {
            "_model_module": "@jupyter-widgets/base",
            "_model_module_version": "1.2.0",
            "_model_name": "LayoutModel",
            "_view_count": null,
            "_view_module": "@jupyter-widgets/base",
            "_view_module_version": "1.2.0",
            "_view_name": "LayoutView",
            "align_content": null,
            "align_items": null,
            "align_self": null,
            "border": null,
            "bottom": null,
            "display": null,
            "flex": null,
            "flex_flow": null,
            "grid_area": null,
            "grid_auto_columns": null,
            "grid_auto_flow": null,
            "grid_auto_rows": null,
            "grid_column": null,
            "grid_gap": null,
            "grid_row": null,
            "grid_template_areas": null,
            "grid_template_columns": null,
            "grid_template_rows": null,
            "height": null,
            "justify_content": null,
            "justify_items": null,
            "left": null,
            "margin": null,
            "max_height": null,
            "max_width": null,
            "min_height": null,
            "min_width": null,
            "object_fit": null,
            "object_position": null,
            "order": null,
            "overflow": null,
            "overflow_x": null,
            "overflow_y": null,
            "padding": null,
            "right": null,
            "top": null,
            "visibility": null,
            "width": null
          }
        },
        "47b2ae17d3d749758124fb6aef80d30a": {
          "model_module": "@jupyter-widgets/controls",
          "model_name": "DescriptionStyleModel",
          "model_module_version": "1.5.0",
          "state": {
            "_model_module": "@jupyter-widgets/controls",
            "_model_module_version": "1.5.0",
            "_model_name": "DescriptionStyleModel",
            "_view_count": null,
            "_view_module": "@jupyter-widgets/base",
            "_view_module_version": "1.2.0",
            "_view_name": "StyleView",
            "description_width": ""
          }
        },
        "5c2ee2673b4b40d3b5104fcc8056e90e": {
          "model_module": "@jupyter-widgets/base",
          "model_name": "LayoutModel",
          "model_module_version": "1.2.0",
          "state": {
            "_model_module": "@jupyter-widgets/base",
            "_model_module_version": "1.2.0",
            "_model_name": "LayoutModel",
            "_view_count": null,
            "_view_module": "@jupyter-widgets/base",
            "_view_module_version": "1.2.0",
            "_view_name": "LayoutView",
            "align_content": null,
            "align_items": null,
            "align_self": null,
            "border": null,
            "bottom": null,
            "display": null,
            "flex": null,
            "flex_flow": null,
            "grid_area": null,
            "grid_auto_columns": null,
            "grid_auto_flow": null,
            "grid_auto_rows": null,
            "grid_column": null,
            "grid_gap": null,
            "grid_row": null,
            "grid_template_areas": null,
            "grid_template_columns": null,
            "grid_template_rows": null,
            "height": null,
            "justify_content": null,
            "justify_items": null,
            "left": null,
            "margin": null,
            "max_height": null,
            "max_width": null,
            "min_height": null,
            "min_width": null,
            "object_fit": null,
            "object_position": null,
            "order": null,
            "overflow": null,
            "overflow_x": null,
            "overflow_y": null,
            "padding": null,
            "right": null,
            "top": null,
            "visibility": null,
            "width": null
          }
        },
        "d6cfb3a812644cc3904c55bc0010673b": {
          "model_module": "@jupyter-widgets/controls",
          "model_name": "ProgressStyleModel",
          "model_module_version": "1.5.0",
          "state": {
            "_model_module": "@jupyter-widgets/controls",
            "_model_module_version": "1.5.0",
            "_model_name": "ProgressStyleModel",
            "_view_count": null,
            "_view_module": "@jupyter-widgets/base",
            "_view_module_version": "1.2.0",
            "_view_name": "StyleView",
            "bar_color": null,
            "description_width": ""
          }
        },
        "57a5e039cf85409685226744e10b383b": {
          "model_module": "@jupyter-widgets/base",
          "model_name": "LayoutModel",
          "model_module_version": "1.2.0",
          "state": {
            "_model_module": "@jupyter-widgets/base",
            "_model_module_version": "1.2.0",
            "_model_name": "LayoutModel",
            "_view_count": null,
            "_view_module": "@jupyter-widgets/base",
            "_view_module_version": "1.2.0",
            "_view_name": "LayoutView",
            "align_content": null,
            "align_items": null,
            "align_self": null,
            "border": null,
            "bottom": null,
            "display": null,
            "flex": null,
            "flex_flow": null,
            "grid_area": null,
            "grid_auto_columns": null,
            "grid_auto_flow": null,
            "grid_auto_rows": null,
            "grid_column": null,
            "grid_gap": null,
            "grid_row": null,
            "grid_template_areas": null,
            "grid_template_columns": null,
            "grid_template_rows": null,
            "height": null,
            "justify_content": null,
            "justify_items": null,
            "left": null,
            "margin": null,
            "max_height": null,
            "max_width": null,
            "min_height": null,
            "min_width": null,
            "object_fit": null,
            "object_position": null,
            "order": null,
            "overflow": null,
            "overflow_x": null,
            "overflow_y": null,
            "padding": null,
            "right": null,
            "top": null,
            "visibility": null,
            "width": null
          }
        },
        "bf71d776dbc447f099b59a3eca9b60c6": {
          "model_module": "@jupyter-widgets/controls",
          "model_name": "DescriptionStyleModel",
          "model_module_version": "1.5.0",
          "state": {
            "_model_module": "@jupyter-widgets/controls",
            "_model_module_version": "1.5.0",
            "_model_name": "DescriptionStyleModel",
            "_view_count": null,
            "_view_module": "@jupyter-widgets/base",
            "_view_module_version": "1.2.0",
            "_view_name": "StyleView",
            "description_width": ""
          }
        },
        "b1a08fc8460745628b5b7cbd88b3dde5": {
          "model_module": "@jupyter-widgets/controls",
          "model_name": "HBoxModel",
          "model_module_version": "1.5.0",
          "state": {
            "_dom_classes": [],
            "_model_module": "@jupyter-widgets/controls",
            "_model_module_version": "1.5.0",
            "_model_name": "HBoxModel",
            "_view_count": null,
            "_view_module": "@jupyter-widgets/controls",
            "_view_module_version": "1.5.0",
            "_view_name": "HBoxView",
            "box_style": "",
            "children": [
              "IPY_MODEL_38caaab1cf514f6e8d9b1a39bd654163",
              "IPY_MODEL_7f7973410a284a369b918594b2952082",
              "IPY_MODEL_ccc7cc1462384f318db3e1a100cf3e40"
            ],
            "layout": "IPY_MODEL_4854a11914cf40ec8bac766d49fa5ab5"
          }
        },
        "38caaab1cf514f6e8d9b1a39bd654163": {
          "model_module": "@jupyter-widgets/controls",
          "model_name": "HTMLModel",
          "model_module_version": "1.5.0",
          "state": {
            "_dom_classes": [],
            "_model_module": "@jupyter-widgets/controls",
            "_model_module_version": "1.5.0",
            "_model_name": "HTMLModel",
            "_view_count": null,
            "_view_module": "@jupyter-widgets/controls",
            "_view_module_version": "1.5.0",
            "_view_name": "HTMLView",
            "description": "",
            "description_tooltip": null,
            "layout": "IPY_MODEL_60a3413e4f8e4c948a458815a765f1c6",
            "placeholder": "​",
            "style": "IPY_MODEL_69b21a98697c40a9be03ca751c860ea7",
            "value": "100%"
          }
        },
        "7f7973410a284a369b918594b2952082": {
          "model_module": "@jupyter-widgets/controls",
          "model_name": "FloatProgressModel",
          "model_module_version": "1.5.0",
          "state": {
            "_dom_classes": [],
            "_model_module": "@jupyter-widgets/controls",
            "_model_module_version": "1.5.0",
            "_model_name": "FloatProgressModel",
            "_view_count": null,
            "_view_module": "@jupyter-widgets/controls",
            "_view_module_version": "1.5.0",
            "_view_name": "ProgressView",
            "bar_style": "success",
            "description": "",
            "description_tooltip": null,
            "layout": "IPY_MODEL_5b5094e7d9ad4bd7bf157174be354b7e",
            "max": 340,
            "min": 0,
            "orientation": "horizontal",
            "style": "IPY_MODEL_4fa8818de08f4c44b50898c16f5c1808",
            "value": 340
          }
        },
        "ccc7cc1462384f318db3e1a100cf3e40": {
          "model_module": "@jupyter-widgets/controls",
          "model_name": "HTMLModel",
          "model_module_version": "1.5.0",
          "state": {
            "_dom_classes": [],
            "_model_module": "@jupyter-widgets/controls",
            "_model_module_version": "1.5.0",
            "_model_name": "HTMLModel",
            "_view_count": null,
            "_view_module": "@jupyter-widgets/controls",
            "_view_module_version": "1.5.0",
            "_view_name": "HTMLView",
            "description": "",
            "description_tooltip": null,
            "layout": "IPY_MODEL_eb4908dbf73a41fbbd206aa835646494",
            "placeholder": "​",
            "style": "IPY_MODEL_be4c558446494a04a677e5cef957ecea",
            "value": " 340/340 [00:01&lt;00:00, 178.55it/s]"
          }
        },
        "4854a11914cf40ec8bac766d49fa5ab5": {
          "model_module": "@jupyter-widgets/base",
          "model_name": "LayoutModel",
          "model_module_version": "1.2.0",
          "state": {
            "_model_module": "@jupyter-widgets/base",
            "_model_module_version": "1.2.0",
            "_model_name": "LayoutModel",
            "_view_count": null,
            "_view_module": "@jupyter-widgets/base",
            "_view_module_version": "1.2.0",
            "_view_name": "LayoutView",
            "align_content": null,
            "align_items": null,
            "align_self": null,
            "border": null,
            "bottom": null,
            "display": null,
            "flex": null,
            "flex_flow": null,
            "grid_area": null,
            "grid_auto_columns": null,
            "grid_auto_flow": null,
            "grid_auto_rows": null,
            "grid_column": null,
            "grid_gap": null,
            "grid_row": null,
            "grid_template_areas": null,
            "grid_template_columns": null,
            "grid_template_rows": null,
            "height": null,
            "justify_content": null,
            "justify_items": null,
            "left": null,
            "margin": null,
            "max_height": null,
            "max_width": null,
            "min_height": null,
            "min_width": null,
            "object_fit": null,
            "object_position": null,
            "order": null,
            "overflow": null,
            "overflow_x": null,
            "overflow_y": null,
            "padding": null,
            "right": null,
            "top": null,
            "visibility": null,
            "width": null
          }
        },
        "60a3413e4f8e4c948a458815a765f1c6": {
          "model_module": "@jupyter-widgets/base",
          "model_name": "LayoutModel",
          "model_module_version": "1.2.0",
          "state": {
            "_model_module": "@jupyter-widgets/base",
            "_model_module_version": "1.2.0",
            "_model_name": "LayoutModel",
            "_view_count": null,
            "_view_module": "@jupyter-widgets/base",
            "_view_module_version": "1.2.0",
            "_view_name": "LayoutView",
            "align_content": null,
            "align_items": null,
            "align_self": null,
            "border": null,
            "bottom": null,
            "display": null,
            "flex": null,
            "flex_flow": null,
            "grid_area": null,
            "grid_auto_columns": null,
            "grid_auto_flow": null,
            "grid_auto_rows": null,
            "grid_column": null,
            "grid_gap": null,
            "grid_row": null,
            "grid_template_areas": null,
            "grid_template_columns": null,
            "grid_template_rows": null,
            "height": null,
            "justify_content": null,
            "justify_items": null,
            "left": null,
            "margin": null,
            "max_height": null,
            "max_width": null,
            "min_height": null,
            "min_width": null,
            "object_fit": null,
            "object_position": null,
            "order": null,
            "overflow": null,
            "overflow_x": null,
            "overflow_y": null,
            "padding": null,
            "right": null,
            "top": null,
            "visibility": null,
            "width": null
          }
        },
        "69b21a98697c40a9be03ca751c860ea7": {
          "model_module": "@jupyter-widgets/controls",
          "model_name": "DescriptionStyleModel",
          "model_module_version": "1.5.0",
          "state": {
            "_model_module": "@jupyter-widgets/controls",
            "_model_module_version": "1.5.0",
            "_model_name": "DescriptionStyleModel",
            "_view_count": null,
            "_view_module": "@jupyter-widgets/base",
            "_view_module_version": "1.2.0",
            "_view_name": "StyleView",
            "description_width": ""
          }
        },
        "5b5094e7d9ad4bd7bf157174be354b7e": {
          "model_module": "@jupyter-widgets/base",
          "model_name": "LayoutModel",
          "model_module_version": "1.2.0",
          "state": {
            "_model_module": "@jupyter-widgets/base",
            "_model_module_version": "1.2.0",
            "_model_name": "LayoutModel",
            "_view_count": null,
            "_view_module": "@jupyter-widgets/base",
            "_view_module_version": "1.2.0",
            "_view_name": "LayoutView",
            "align_content": null,
            "align_items": null,
            "align_self": null,
            "border": null,
            "bottom": null,
            "display": null,
            "flex": null,
            "flex_flow": null,
            "grid_area": null,
            "grid_auto_columns": null,
            "grid_auto_flow": null,
            "grid_auto_rows": null,
            "grid_column": null,
            "grid_gap": null,
            "grid_row": null,
            "grid_template_areas": null,
            "grid_template_columns": null,
            "grid_template_rows": null,
            "height": null,
            "justify_content": null,
            "justify_items": null,
            "left": null,
            "margin": null,
            "max_height": null,
            "max_width": null,
            "min_height": null,
            "min_width": null,
            "object_fit": null,
            "object_position": null,
            "order": null,
            "overflow": null,
            "overflow_x": null,
            "overflow_y": null,
            "padding": null,
            "right": null,
            "top": null,
            "visibility": null,
            "width": null
          }
        },
        "4fa8818de08f4c44b50898c16f5c1808": {
          "model_module": "@jupyter-widgets/controls",
          "model_name": "ProgressStyleModel",
          "model_module_version": "1.5.0",
          "state": {
            "_model_module": "@jupyter-widgets/controls",
            "_model_module_version": "1.5.0",
            "_model_name": "ProgressStyleModel",
            "_view_count": null,
            "_view_module": "@jupyter-widgets/base",
            "_view_module_version": "1.2.0",
            "_view_name": "StyleView",
            "bar_color": null,
            "description_width": ""
          }
        },
        "eb4908dbf73a41fbbd206aa835646494": {
          "model_module": "@jupyter-widgets/base",
          "model_name": "LayoutModel",
          "model_module_version": "1.2.0",
          "state": {
            "_model_module": "@jupyter-widgets/base",
            "_model_module_version": "1.2.0",
            "_model_name": "LayoutModel",
            "_view_count": null,
            "_view_module": "@jupyter-widgets/base",
            "_view_module_version": "1.2.0",
            "_view_name": "LayoutView",
            "align_content": null,
            "align_items": null,
            "align_self": null,
            "border": null,
            "bottom": null,
            "display": null,
            "flex": null,
            "flex_flow": null,
            "grid_area": null,
            "grid_auto_columns": null,
            "grid_auto_flow": null,
            "grid_auto_rows": null,
            "grid_column": null,
            "grid_gap": null,
            "grid_row": null,
            "grid_template_areas": null,
            "grid_template_columns": null,
            "grid_template_rows": null,
            "height": null,
            "justify_content": null,
            "justify_items": null,
            "left": null,
            "margin": null,
            "max_height": null,
            "max_width": null,
            "min_height": null,
            "min_width": null,
            "object_fit": null,
            "object_position": null,
            "order": null,
            "overflow": null,
            "overflow_x": null,
            "overflow_y": null,
            "padding": null,
            "right": null,
            "top": null,
            "visibility": null,
            "width": null
          }
        },
        "be4c558446494a04a677e5cef957ecea": {
          "model_module": "@jupyter-widgets/controls",
          "model_name": "DescriptionStyleModel",
          "model_module_version": "1.5.0",
          "state": {
            "_model_module": "@jupyter-widgets/controls",
            "_model_module_version": "1.5.0",
            "_model_name": "DescriptionStyleModel",
            "_view_count": null,
            "_view_module": "@jupyter-widgets/base",
            "_view_module_version": "1.2.0",
            "_view_name": "StyleView",
            "description_width": ""
          }
        }
      }
    }
  },
  "cells": [
    {
      "cell_type": "markdown",
      "metadata": {
        "id": "ldHBGHWGon-Y"
      },
      "source": [
        "# Reconocimiento de Patrones\n",
        "[Curso de Reconocimiento de Patrones](https://https://domingomery.ing.puc.cl/teaching/patrones/)\n",
        "\n",
        "Departamento de Ciencia de la Computación\n",
        "\n",
        "Universidad Catolica de Chile\n",
        "\n",
        "(c) Domingo Mery, http://domingomery.ing.uc.cl\n",
        "\n"
      ]
    },
    {
      "cell_type": "markdown",
      "metadata": {
        "id": "XASTjivuu7cO"
      },
      "source": [
        "# Ejercicio 06: Selección de Características para la Detección de espinas de salmón\n",
        "\n",
        "En este ejercicio se realizará la clasificación entre dos clases de \"parches\" de radiogarfías de filetes de salmón de 100x100 pixeles (en escala de grises):\n",
        "\n",
        "* Clase 0: Espinas (contiene parches de filetes de salmón con espinas). [Ver imágenes](https://www.dropbox.com/s/8bbb7yzyrjkl0qs/fishbones_0.png?dl=00)\n",
        "\n",
        "* Clase 1: No-Espinas (contiene parches de filetes de salmón sin espinas) [Ver imágenes](https://www.dropbox.com/s/tdgp3shvk47213c/fishbones_1.png?dl=0)\n",
        "\n",
        "La base de datos contiene 680 imágenes de 100x100 pixeles (340 imágenes por clase).\n",
        "\n",
        "**ADVERTENCIA:** Este ejercicio tiene fines pedagógicos sólamente, con la idea de que la solución a este problema pueda ejecutarse en un par de minutos. Un buen detector de espinas sigue esta idea pero con miles de radiografías por clase.\n",
        "\n",
        "\n"
      ]
    },
    {
      "cell_type": "markdown",
      "metadata": {
        "id": "R5C53BYjpNl7"
      },
      "source": [
        "# Setup inicial\n",
        "\n",
        "Liberías necesarias para que funcione el algoritmo."
      ]
    },
    {
      "cell_type": "markdown",
      "metadata": {
        "id": "x-r9zRXMdBOM"
      },
      "source": [
        "## Instalación de Balu3\n"
      ]
    },
    {
      "cell_type": "code",
      "metadata": {
        "id": "XX-Xb2Igk2jQ",
        "colab": {
          "base_uri": "https://localhost:8080/"
        },
        "outputId": "eb4cce61-4395-42e4-ae1a-7dee03af4e5e"
      },
      "source": [
        "#\n",
        "# EJECUTAR ESTA CELDA SIN MODIFICARLA\n",
        "#\n",
        "\n",
        "!git clone https://github.com/domingomery/balu3\n",
        "!pip install ./balu3"
      ],
      "execution_count": 1,
      "outputs": [
        {
          "output_type": "stream",
          "name": "stdout",
          "text": [
            "Cloning into 'balu3'...\n",
            "remote: Enumerating objects: 256, done.\u001b[K\n",
            "remote: Counting objects: 100% (256/256), done.\u001b[K\n",
            "remote: Compressing objects: 100% (179/179), done.\u001b[K\n",
            "remote: Total 256 (delta 149), reused 174 (delta 73), pack-reused 0\u001b[K\n",
            "Receiving objects: 100% (256/256), 68.01 KiB | 11.33 MiB/s, done.\n",
            "Resolving deltas: 100% (149/149), done.\n",
            "Looking in indexes: https://pypi.org/simple, https://us-python.pkg.dev/colab-wheels/public/simple/\n",
            "Processing ./balu3\n",
            "  Preparing metadata (setup.py) ... \u001b[?25l\u001b[?25hdone\n",
            "Building wheels for collected packages: balu3\n",
            "  Building wheel for balu3 (setup.py) ... \u001b[?25l\u001b[?25hdone\n",
            "  Created wheel for balu3: filename=balu3-1.0-py3-none-any.whl size=43714 sha256=d2bb85381598d4f82fd5ad9a6360670e00904f9db499a7a1a25769c3c2c57567\n",
            "  Stored in directory: /tmp/pip-ephem-wheel-cache-ggi3am6q/wheels/16/25/1e/631c042e986997d66481af1f42bd9a1f0937c379ca8d6f32fb\n",
            "Successfully built balu3\n",
            "Installing collected packages: balu3\n",
            "Successfully installed balu3-1.0\n"
          ]
        }
      ]
    },
    {
      "cell_type": "markdown",
      "metadata": {
        "id": "X9daVUmmTSBW"
      },
      "source": [
        "## Setup de librerías"
      ]
    },
    {
      "cell_type": "code",
      "metadata": {
        "id": "xUXeMCxoTRH8",
        "colab": {
          "base_uri": "https://localhost:8080/"
        },
        "outputId": "c3c5efce-7359-42ef-d684-5c9f4520f708"
      },
      "source": [
        "#\n",
        "# EJECUTAR ESTA CELDA SIN MODIFICARLA\n",
        "#\n",
        "\n",
        "import numpy as np\n",
        "import matplotlib.pyplot as plt\n",
        "\n",
        "from   tqdm.auto import tqdm\n",
        "\n",
        "from   balu3.fx.chr    import lbp\n",
        "from   balu3.fs.sel    import jfisher,sfs,exsearch\n",
        "from   balu3.cl.basics import SplitTrainTest # Separación entre training y testing\n",
        "from   balu3.cl.basics import ClassifierKNN  # Clasificación usando KNN\n",
        "from   balu3.io.misc   import imageload\n",
        "from   balu3.ft.norm   import minmax\n",
        "\n",
        "print('Librerías cargadas.')"
      ],
      "execution_count": 2,
      "outputs": [
        {
          "output_type": "stream",
          "name": "stdout",
          "text": [
            "Librerías cargadas.\n"
          ]
        }
      ]
    },
    {
      "cell_type": "markdown",
      "metadata": {
        "id": "dYCCyCrTYVYQ"
      },
      "source": [
        "## Funciones necesarias"
      ]
    },
    {
      "cell_type": "markdown",
      "source": [
        "## ADVERTENCIA\n",
        "\n",
        "<font color='red'> **PARA LA EJECUCIÓN DE ESTA TAREA NO DEBE USAR OTRAS LIBRERÍAS**\n",
        "\n",
        "(sólo está permitido usar las librerías definidas en las celdas anteriores)"
      ],
      "metadata": {
        "id": "_OkYYztagGZb"
      }
    },
    {
      "cell_type": "markdown",
      "metadata": {
        "id": "sOcwbiQYYPag"
      },
      "source": [
        "# PREGUNTA 1: Carga de base de datos\n",
        "\n",
        "(1 punto)\n",
        "\n",
        "La base de datos consiste en 2 clases con 340 imágenes por clase. Se almacenan en la carpeta `fishbones` con el formato `fish_xx_nnnn.png`, donde `xx` es el ID de la clase (00 para espinas, 02 para no-espinas) y `nnnn` es el número de la foto de la clase (0001, 0002, ... 0340). Las radiografías son de 100x100 pixeles en escala de grises.\n",
        "\n",
        "\n",
        "En esta celda debes cargar la base de datos a este ambiente de trabajo, descargando el archivo fishbones.zip que se encuentra en este link: `https://www.dropbox.com/s/7d9y6kllguegk77/fishbones.zip`. Una vez descargado el archivo zip, debes descomprimirlo.\n",
        "\n",
        "AYUDA: usar comando `!wget <url archivo zip>` para descargar el archivo, y el comando `!unzip <archivo zip>` para descomprimirlo.\n",
        "\n",
        "<font color='red'> **SALIDA ESPERADA:** \n",
        "\n",
        "* carpeta `fishbones` creada con 680 imágenes `fish_xx_nnnn.png`\n",
        "\n",
        "\n"
      ]
    },
    {
      "cell_type": "code",
      "metadata": {
        "id": "BMYOlpLpzHQJ",
        "colab": {
          "base_uri": "https://localhost:8080/"
        },
        "outputId": "79cb61ce-7fe7-4e69-f142-21cf71a26fec"
      },
      "source": [
        " # INGRESE CODIGO DE PREGUNTA 1 AQUI\n",
        "!wget https://www.dropbox.com/s/7d9y6kllguegk77/fishbones.zip\n",
        "!unzip -qq fishbones.zip"
      ],
      "execution_count": 3,
      "outputs": [
        {
          "output_type": "stream",
          "name": "stdout",
          "text": [
            "--2023-04-25 21:04:06--  https://www.dropbox.com/s/7d9y6kllguegk77/fishbones.zip\n",
            "Resolving www.dropbox.com (www.dropbox.com)... 162.125.6.18, 2620:100:601c:18::a27d:612\n",
            "Connecting to www.dropbox.com (www.dropbox.com)|162.125.6.18|:443... connected.\n",
            "HTTP request sent, awaiting response... 302 Found\n",
            "Location: /s/raw/7d9y6kllguegk77/fishbones.zip [following]\n",
            "--2023-04-25 21:04:06--  https://www.dropbox.com/s/raw/7d9y6kllguegk77/fishbones.zip\n",
            "Reusing existing connection to www.dropbox.com:443.\n",
            "HTTP request sent, awaiting response... 302 Found\n",
            "Location: https://uc1f18e92521034020b7d17cfbbd.dl.dropboxusercontent.com/cd/0/inline/B63gs4ArcwAi4wHElxK1GtCrruhFcanbXVRiqKHwOiG_rRmUUC0Yxf-ljyF20KyGQAee0IJjN6rzHTlHp5fF78x950Ipf28DrAzG5WzqspNPHherqQQ7mjA6RzUH_hA6rdLtEXYIlDjqkIQ2l6IPVI8VXpHXVysO_PrjUarX7X4tiw/file# [following]\n",
            "--2023-04-25 21:04:07--  https://uc1f18e92521034020b7d17cfbbd.dl.dropboxusercontent.com/cd/0/inline/B63gs4ArcwAi4wHElxK1GtCrruhFcanbXVRiqKHwOiG_rRmUUC0Yxf-ljyF20KyGQAee0IJjN6rzHTlHp5fF78x950Ipf28DrAzG5WzqspNPHherqQQ7mjA6RzUH_hA6rdLtEXYIlDjqkIQ2l6IPVI8VXpHXVysO_PrjUarX7X4tiw/file\n",
            "Resolving uc1f18e92521034020b7d17cfbbd.dl.dropboxusercontent.com (uc1f18e92521034020b7d17cfbbd.dl.dropboxusercontent.com)... 162.125.4.15, 2620:100:601c:15::a27d:60f\n",
            "Connecting to uc1f18e92521034020b7d17cfbbd.dl.dropboxusercontent.com (uc1f18e92521034020b7d17cfbbd.dl.dropboxusercontent.com)|162.125.4.15|:443... connected.\n",
            "HTTP request sent, awaiting response... 302 Found\n",
            "Location: /cd/0/inline2/B62AYnDqj1etzuwp__njbZZ1aXBjBl7ztktXYf_wt9v7mON33zYJDtKe7nW1S9Zdr04ntq2J0o3uf3ofNYvsPahvu7nG0rtxdmNuSqs6vY1Npt_tGIG9xdEi2QxJ8FNP7rsXkRwLyyBhdCN4Jrd2mdb_8jUGBl9xc2Edi2AnYzdnQ9FIXKvx2pYralnQJBTCva9zYPIQaU1VPHHHbxqhdgjbgs56MmfhQ5q6rn4vueoJ4tTnFgYIAEs7xPmCTcXMM9zEMscbHcTHH7Y9Lf9fKYvjbl5S0f_GPkIfmZOkCTsLqPmzaCZGsgLFOeb-LHdE81KVFBTKClx4ADgiJa1aZG2p8Qptcqy7Oc1BjCdLyB6vioFVy-HOqerN-kZJxfJl8getRMrZ9JcgZTNUbQOXT65aai51nQQZLwkaILF9Ol2clg/file [following]\n",
            "--2023-04-25 21:04:07--  https://uc1f18e92521034020b7d17cfbbd.dl.dropboxusercontent.com/cd/0/inline2/B62AYnDqj1etzuwp__njbZZ1aXBjBl7ztktXYf_wt9v7mON33zYJDtKe7nW1S9Zdr04ntq2J0o3uf3ofNYvsPahvu7nG0rtxdmNuSqs6vY1Npt_tGIG9xdEi2QxJ8FNP7rsXkRwLyyBhdCN4Jrd2mdb_8jUGBl9xc2Edi2AnYzdnQ9FIXKvx2pYralnQJBTCva9zYPIQaU1VPHHHbxqhdgjbgs56MmfhQ5q6rn4vueoJ4tTnFgYIAEs7xPmCTcXMM9zEMscbHcTHH7Y9Lf9fKYvjbl5S0f_GPkIfmZOkCTsLqPmzaCZGsgLFOeb-LHdE81KVFBTKClx4ADgiJa1aZG2p8Qptcqy7Oc1BjCdLyB6vioFVy-HOqerN-kZJxfJl8getRMrZ9JcgZTNUbQOXT65aai51nQQZLwkaILF9Ol2clg/file\n",
            "Reusing existing connection to uc1f18e92521034020b7d17cfbbd.dl.dropboxusercontent.com:443.\n",
            "HTTP request sent, awaiting response... 200 OK\n",
            "Length: 3264547 (3.1M) [application/zip]\n",
            "Saving to: ‘fishbones.zip’\n",
            "\n",
            "fishbones.zip       100%[===================>]   3.11M  --.-KB/s    in 0.05s   \n",
            "\n",
            "2023-04-25 21:04:07 (60.3 MB/s) - ‘fishbones.zip’ saved [3264547/3264547]\n",
            "\n"
          ]
        }
      ]
    },
    {
      "cell_type": "markdown",
      "metadata": {
        "id": "yYHxPwnTYhXs"
      },
      "source": [
        "# PREGUNTA 2: Extracción de características\n",
        "\n",
        "(2 puntos)\n",
        "\n",
        "En esta pregunta se debe realizar la extracción de características de todas las imágenes de la base de datos. Las características a extraer son las basadas en LBP (invariantes a la rotación y con norma unitaria) y se extraen usando el siguiente comando de la librería Balu3:\n",
        "\n",
        "\n",
        "`f  = lbp(img, hdiv=a, vdiv=b, mapping='uniform', norm=True)`\n",
        "\n",
        "En este caso una imagen `img` se divide en `a x b` particiones y en cada una de ellas se extrae el descriptor LBP (vector de 10 elementos) cuya norma es uno. En este caso `f` es un vector de `10*a*b` elementos. En este ejercicio trabajaremos con `a = b = 1`, es decir sólo una partición por imagen.\n",
        "\n"
      ]
    },
    {
      "cell_type": "markdown",
      "source": [
        "\n",
        "<font color='red'> **SALIDA ESPERADA:** \n",
        "\n",
        "* `Xlbp`: una matriz de 680 x 10 elementos. Las primeras 340 filas corresponden a los LBP de las imágenes de la clase 0, mientras que las siguientes 340 filas corresponden a los LBP de las imágenes de la clase 1.\n",
        "\n",
        "* `y`: vector con el Ground Truth de cada muestra. <font color='red'>Este vector debe ser un array del tipo `int` con 680 elementos (340 ceros y 340 unos). \n",
        "\n",
        "<font color='orange'> Para escribir este código reutilice los códigos vistos en clase\n"
      ],
      "metadata": {
        "id": "uFssO8MwqWP-"
      }
    },
    {
      "cell_type": "code",
      "metadata": {
        "id": "ASGRTqKTLYNa",
        "colab": {
          "base_uri": "https://localhost:8080/",
          "height": 133,
          "referenced_widgets": [
            "9ca5321baf9a49d6bcc42ec201664c2f",
            "2fd28a3d043a4ae1bc0c7ea54443f6ca",
            "f510f0002f7a4d42b40d063ffacae972",
            "691316334f4141dd8c19548d18c717c9",
            "cac93d6857d6421ba58729b82247a516",
            "199068560bcf414fa460aae9e78021e9",
            "47b2ae17d3d749758124fb6aef80d30a",
            "5c2ee2673b4b40d3b5104fcc8056e90e",
            "d6cfb3a812644cc3904c55bc0010673b",
            "57a5e039cf85409685226744e10b383b",
            "bf71d776dbc447f099b59a3eca9b60c6",
            "b1a08fc8460745628b5b7cbd88b3dde5",
            "38caaab1cf514f6e8d9b1a39bd654163",
            "7f7973410a284a369b918594b2952082",
            "ccc7cc1462384f318db3e1a100cf3e40",
            "4854a11914cf40ec8bac766d49fa5ab5",
            "60a3413e4f8e4c948a458815a765f1c6",
            "69b21a98697c40a9be03ca751c860ea7",
            "5b5094e7d9ad4bd7bf157174be354b7e",
            "4fa8818de08f4c44b50898c16f5c1808",
            "eb4908dbf73a41fbbd206aa835646494",
            "be4c558446494a04a677e5cef957ecea"
          ]
        },
        "outputId": "0f79afb1-95ef-454d-a0b6-7159f9442fb6"
      },
      "source": [
        "# INGRESE CODIGO DE PREGUNTA 2 AQUI\n",
        "\n",
        "K = 2   # número de clases\n",
        "N = 340 # número de imágenes por clase\n",
        "\n",
        "M1 = 10      # INGRESE NUMERO DE ELEMENTOS DEL VECTOR LBP\n",
        "\n",
        "Xlbp  = np.zeros((K*N,M1))    # K*N muestras (filas), y M1 características (columnas)\n",
        "\n",
        "y     = np.zeros((K*N),'int')   # ground truth (clasificacion ideal)\n",
        "\n",
        "t = 0\n",
        "print('Cargando imagenes y extrayendo características...')\n",
        "for j in range(K):            # para cada clase\n",
        "  print('Extrayendo características: batch '+str(j+1)+'/'+str(K))\n",
        "  for i in tqdm(range(N)):                # para cada imagen de la clase\n",
        "    # Lectura de la imagen\n",
        "    img    = imageload('fishbones/fish_',j,2,i+1,4)\n",
        "    # fishbones/fish_00_0001.png\n",
        "\n",
        "    # Extracción de características\n",
        "\n",
        "    # LBP clásico de 1x1 particiones\n",
        "    f = lbp(img, hdiv=1, vdiv=1, mapping='uniform', norm=True)\n",
        "    Xlbp[t, :] = f\n",
        "    \n",
        "    y[t] = j # la muestra t pertenece a la clase j\n",
        "    t = t+1\n"
      ],
      "execution_count": 4,
      "outputs": [
        {
          "output_type": "stream",
          "name": "stdout",
          "text": [
            "Cargando imagenes y extrayendo características...\n",
            "Extrayendo características: batch 1/2\n"
          ]
        },
        {
          "output_type": "display_data",
          "data": {
            "text/plain": [
              "  0%|          | 0/340 [00:00<?, ?it/s]"
            ],
            "application/vnd.jupyter.widget-view+json": {
              "version_major": 2,
              "version_minor": 0,
              "model_id": "9ca5321baf9a49d6bcc42ec201664c2f"
            }
          },
          "metadata": {}
        },
        {
          "output_type": "stream",
          "name": "stdout",
          "text": [
            "Extrayendo características: batch 2/2\n"
          ]
        },
        {
          "output_type": "display_data",
          "data": {
            "text/plain": [
              "  0%|          | 0/340 [00:00<?, ?it/s]"
            ],
            "application/vnd.jupyter.widget-view+json": {
              "version_major": 2,
              "version_minor": 0,
              "model_id": "b1a08fc8460745628b5b7cbd88b3dde5"
            }
          },
          "metadata": {}
        }
      ]
    },
    {
      "cell_type": "markdown",
      "source": [
        "# PREGUNTA 3: Definición de Training y Testing\n",
        "\n",
        "(1 punto)\n",
        "\n",
        "<font color='red'> IMPORTANTE: \n",
        "\n",
        "En todos los experimentos usaremos las primeras 280 muestras por clase para training y el resto (60) para testing.\n",
        "\n",
        "Para la separación train/test use la función `SplitTrainTest` cuya sintaxis es la siguiente:\n",
        "\n",
        "`Xtrain,ytrain,Xtest,ytest = SplitTrainTest(X,y,n)` \n",
        "\n",
        "donde las primeras `n` muestras de cada clase son tomadas para el training y el resto para el testing. Esta función divide `X` en `Xtrain` y `Xtest`, y a la vez divide `y` en `ytrain` e `ytest`.\n",
        "\n",
        "\n",
        "<font color='red'> **SALIDA ESPERADA:** \n",
        "\n",
        "Variables:\n",
        "\n",
        "* `Xtrain,ytrain,Xtest,ytest`.\n",
        "\n",
        "\n",
        "\n",
        "\n"
      ],
      "metadata": {
        "id": "i5iKRMwGZoFF"
      }
    },
    {
      "cell_type": "code",
      "source": [
        "# INGRESE CODIGO DE PREGUNTA 3 AQUI\n",
        "Xtrain,ytrain,Xtest,ytest = SplitTrainTest(Xlbp,y,280)"
      ],
      "metadata": {
        "id": "BShe5swFZtv_"
      },
      "execution_count": 5,
      "outputs": []
    },
    {
      "cell_type": "markdown",
      "metadata": {
        "id": "Xd5riXIEhUgS"
      },
      "source": [
        "# PREGUNTA 4: Normalización de las características\n",
        "\n",
        "(1 punto)\n",
        "\n",
        "Usando la función `minmax` de Balu3 normalice los datos de training. El uso de esta función se encuentra en el ejemplo de Colab \"Ejemplo de Seleccion de Caracteristicas\" visto en la última clase.\n",
        "\n",
        "\n",
        "<font color='red'> **SALIDA ESPERADA:** \n",
        "\n",
        "El output de esta celda debe ser:\n",
        "\n",
        "* `Xtrain_norm` : Datos del training normalizados\n",
        "\n",
        "* `Xtest_norm` : Datos del testing normalizados\n",
        "\n",
        "<font color='orange'>Se recomienda estudiar bien las dos líneas de código que hacen la normalización.</font>\n",
        "\n",
        "\n",
        "\n"
      ]
    },
    {
      "cell_type": "code",
      "metadata": {
        "id": "IpghwJ6MOoz2"
      },
      "source": [
        "# INGRESE CODIGO DE PREGUNTA 4 AQUI\n",
        "Xtrain_norm, a, b = minmax(Xtrain)\n",
        "Xtest_norm        = Xtest * a + b"
      ],
      "execution_count": 6,
      "outputs": []
    },
    {
      "cell_type": "markdown",
      "source": [
        "# PREGUNTA 5: Clasificación sin Selección de Características\n",
        "\n",
        "(1 punto)\n",
        "\n",
        "<font color='red'>**IMPORTANTE**: En TODO este Ejercicio (E05), el clasificador será SIEMPRE un **KNN de 5 vecinos**. </font>\n",
        "\n",
        "\n",
        "Usando **todos** los datos normalizados y la función `ClassifierKNN` con `n_neighbors = 5` obtenga el Accuracy la matriz de confusión. En esta celda debeemplear todas las características (sin realizar selección alguna).\n",
        "\n",
        "<font color='red'> **SALIDA ESPERADA:** \n",
        "\n",
        "* `acc_all`: Accuracy obtenido\n",
        "\n",
        "* `C_all`: Matriz de confusión\n",
        "\n",
        "<font color='red'>Para definir el número de vecinos del KNN en la función `ClassifierKNN` incluya el parámetro `n_neighbors = 5`.</font>\n",
        "\n",
        "\n",
        "\n"
      ],
      "metadata": {
        "id": "6R7BDeYibkzo"
      }
    },
    {
      "cell_type": "code",
      "source": [
        "# INGRESE CODIGO DE PREGUNTA 5 AQUI\n",
        "acc_all,C_all = ClassifierKNN(Xtrain_norm,ytrain,Xtest_norm,ytest,normalize=False, n_neighbors = 5)"
      ],
      "metadata": {
        "id": "CBHwzG2EbnJ8",
        "colab": {
          "base_uri": "https://localhost:8080/"
        },
        "outputId": "23eda8d0-84b5-48c9-f257-569b9cfa5e26"
      },
      "execution_count": 7,
      "outputs": [
        {
          "output_type": "stream",
          "name": "stdout",
          "text": [
            "Entrenando con 560 muestras y probando con 120 muestras (de 10 características)...\n",
            "Testing Accuracy = 80.0%\n",
            "Matriz de Confusión:\n",
            "[[46 14]\n",
            " [10 50]]\n"
          ]
        }
      ]
    },
    {
      "cell_type": "markdown",
      "metadata": {
        "id": "lR0Y6PEKxL8s"
      },
      "source": [
        "# PREGUNTA 6: Selección de características usando \"Búsqueda Exhaustiva\"\n",
        "\n",
        "(8 puntos)\n",
        "\n",
        "En esta pregunta buscaremos las q=4 mejores características de las m=10 extraídas. La búsqueda exhaustiva -en este caso- evalúa todas las combinaciones de 4 características (sin repetición), es decir, evalúa las siguientes m!/(q! x (m-q!) = 10!/(4! x (10-4)!) = 210 combinaciones:\n",
        "\n",
        "* Combinación 1: (0,1,2,<font color='orange'> 3 </font> )\n",
        "\n",
        "* Combinación 2: (0,1,2,<font color='orange'> 4 </font>)\n",
        "\n",
        "* Combinación 3: (0,1,2,<font color='orange'> 5 </font>)\n",
        "\n",
        "* Combinación 4: (0,1,2,<font color='orange'> 6 </font>)\n",
        "\n",
        "* Combinación 5: (0,1,2,<font color='orange'> 7 </font>)\n",
        "\n",
        "* Combinación 6: (0,1,2,<font color='orange'> 8 </font>)\n",
        "\n",
        "* Combinación 7: (0,1,2,<font color='orange'> 9 </font>)\n",
        "\n",
        "* Combinación 8: (0,1,<font color='magenta'> 3 </font>,<font color='cyan'> 4 </font>) -> la combinación (0,1,3,0) no se evalúa porque se repite el 0, además la combinación (0,1,3,2) tampoco se evalúa porque ya fue evaluada en la combinación 1 (en otro orden).\n",
        "\n",
        "* Combinación 9: (0,1,<font color='magenta'> 3 </font>,<font color='cyan'> 5 </font>)\n",
        "\n",
        "* Combinación 10: (0,1,<font color='magenta'> 3 </font>,<font color='cyan'> 6 </font>)\n",
        "\n",
        "* :\n",
        "\n",
        "* Combinación 210: (6,7,8,9)\n",
        "\n",
        "La búsqueda exhaustiva escoge la \"mejor\" de estas 210 combinaciones. La mejor combinación será aquella que tenga la mayor \"separabilidad\" entre las clases. Para obtener un \"score\" de la separabilidad de las características podemos usar la función de Fisher que mide qué tan compactas están cada una de las clases, y qué tan separadas están entre ellas. Una buena separabilidad (un buen \"score\") se obtiene si en el espacio de características, las clases son compactas y la separación entre ellas es grande. Este \"score\" está implementado en la función `jfisher`. Entre mayor sea el \"score\", entonces mayor será la separabilidad. En la búsqueda exhaustiva buscamos aquella combinación que maximiza el score entregado por `jfisher`.\n",
        "\n",
        "## Ejemplo de cómo usar `jfisher`:\n",
        "\n",
        "A manera de ejemplo, vamos a suponer que hemos almacenado en la matriz `Z` la extracción de 20 características de 1000 muestras, es decir el tamaño de esta matriz `Z` es de 1000x20. Adicionalmente, la clasificación ideal de estas 1000 muestras se encuentra almacenada en la variable `d` de 1000 elementos. En este ejemplo, los elementos de `d` toman los valores 0, 1, 2 ó 3 (porque hay 4 clases).\n",
        "\n",
        "En este ejemplo, deseamos evaluar el \"score\" de las características (3,15,17). Para evaluar el desempeño de estas tres características seguimos estos cuatro pasos:\n",
        "\n",
        "* Definimos `i1=3`, `i2=15`, y `i3=17`.\n",
        "\n",
        "* Definimos `ii = (i1,i2,i3)`.\n",
        "\n",
        "* Escogemos de `Z` las columnas indexadas por `ii` usando `Z_sel = Z[:,ii]`. Ahora `Z_sel` tiene 1000 muestras y 3 columnas. \n",
        "\n",
        "* Para obtener el \"score\" de estas características seleccionadas, usamos el comando: `sc = jfisher(Z_sel,d)`\n",
        "\n",
        "En este ejemplo, en la variable `sc` hemos almacenado el \"score\", es decir la evaluación de la función de Fisher de la separabilidad para la selección de las columas (3,15,17).\n",
        "\n",
        "En el siguiente código Ud. debe implementar la búsqueda exhaustiva. El input de este código es la matriz `Xtrain` de 640x10 elementos, y el vector `ytrain` de 640 elementos, la salida debe ser el vector `ex_indices` de 4 números distintos entre 0 y 9 (ya que existen 10 características en `Xtrain` y se escogen 4), que corresponde a la mejor combinación de características. \n",
        "\n",
        "En este código Ud. debe hacer  210 evaluaciones de la función de Fisher, una para cada combinación, y se selecciona aquella combinación que maximiza la función de Fisher.\n",
        "\n",
        "La búsqueda exhaustiva se realiza con cuatro contadores `(i1,i2,i3,i4)` para cada una de las 4 características. Como nuestros datos tienen 10 características, es necesario observar que \n",
        "\n",
        "* `i1` debe contar de 0 a 6\n",
        "\n",
        "* `i2` debe contar de `i1+1` a 7\n",
        "\n",
        "* `i3` debe contar de `i2+1` a 8\n",
        "\n",
        "* `i4` debe contar de `i3+1` a 9\n",
        "\n",
        "\n",
        "En esta implemantación, `i1 < i2 < i3 < i4 `, de esta manera 1) se recorren todos los índices sin repetirse, es decir la combinación (1,1,2,3) no debe evaluarse, y 2) no se evalúan combinaciones que ya han sido evaluadas anteriormente, es decir si evaluó (1,2,3,4), no se evalúa (3,2,1,4) ya que ambas combinaciones tienen el mismo \"score\".\n",
        "\n",
        "<font color='red'> **SALIDA ESPERADA:** \n",
        "\n",
        "Vector `ex_indices` con 4 elementos."
      ]
    },
    {
      "cell_type": "code",
      "metadata": {
        "id": "cCs0G7aCx9qE",
        "colab": {
          "base_uri": "https://localhost:8080/"
        },
        "outputId": "6266dd3e-9da9-439e-b190-fa59785685db"
      },
      "source": [
        "#######################################################################\n",
        "# AYUDA: Hay que leer y entender el texto anterior (de la Pregunta 6) #\n",
        "#######################################################################\n",
        "\n",
        "\n",
        "m = Xtrain_norm.shape[1]         # <= COMPLETAR AQUI EL NÚMERO DE CARACTERÍSTICAS DE Xtrain_norm, NO PONER m = 10 \n",
        "score_max = 0                    # Inicialización del score máximo\n",
        "ex_indices = (-1,-1,-1,-1)       # Inicialización de las columnas seleccionadas\n",
        "p = 0                            # Contador de evaluaciones\n",
        "for i1 in range(7):            # <= COMPLETAR AQUI EL RANGO DE LA VARIABLE i1 (PRIMERA COLUMNA SELECCIONADA)\n",
        "  for i2 in range(i1 +1, 8):          # <= COMPLETAR AQUI EL RANGO DE LA VARIABLE i2 (SEGUNDA COLUMNA SELECCIONADA)\n",
        "    for i3 in range(i2 + 1, 9):        # <= COMPLETAR AQUI EL RANGO DE LA VARIABLE i3 (TERCERA COLUMNA SELECCIONADA)\n",
        "      for i4 in range(i3 + 1, 10):      # <= COMPLETAR AQUI EL RANGO DE LA VARIABLE i4 (CUARTA COLUMNA SELECCIONADA)\n",
        "            p = p+1\n",
        "            ii = (i1,i2,i3,i4)\n",
        "            Xtrain_sel = Xtrain_norm[:,ii]     # <= COMPLETAR AQUI CON LAS 4 COLUMNAS DE Xtrain_norm INDICADAS POR ii\n",
        "            score = jfisher(Xtrain_sel,ytrain)          # <= COMPLETAR AQUI CON LA FUNCIÓN DE FISHER PARA OBTENER EL SCORE DE Xtrain_sel\n",
        "            if score > score_max:\n",
        "              score_max = score\n",
        "              ex_indices = ii\n",
        "              print('nuevo máximo encontrado: score = '+\"{:.4f}\".format(score_max)+' para la combinación '+str(ii))\n",
        "print('Se evaluaron '+str(p)+' combinaciones.')\n",
        "print('Las 4 características seleccionadas son: '+str(ex_indices))\n"
      ],
      "execution_count": 8,
      "outputs": [
        {
          "output_type": "stream",
          "name": "stdout",
          "text": [
            "nuevo máximo encontrado: score = 0.4546 para la combinación (0, 1, 2, 3)\n",
            "nuevo máximo encontrado: score = 1.3336 para la combinación (0, 1, 2, 4)\n",
            "nuevo máximo encontrado: score = 1.6557 para la combinación (0, 1, 4, 8)\n",
            "nuevo máximo encontrado: score = 1.7581 para la combinación (0, 3, 4, 8)\n",
            "Se evaluaron 210 combinaciones.\n",
            "Las 4 características seleccionadas son: (0, 3, 4, 8)\n"
          ]
        }
      ]
    },
    {
      "cell_type": "markdown",
      "metadata": {
        "id": "JLO9YK1BnZc8"
      },
      "source": [
        "# PREGUNTA 7: Clasificación con características seleccionadas por búsqueda exhaustiva\n",
        "\n",
        "(3 puntos)\n",
        "\n",
        "A continuación se definen las matrices `Xtrain_ex` (de 640x4 elementos) y `Xtest_ex` (de 40x4) elementos, tomando las columnas seleccionadas de `Xtrain_norm` y `Xtest_norm` respectivamente usando los índices encontrados en `ex_indices`.\n",
        "\n",
        "Finalmente, entrenamos y probamos el clasificador con estos nuevos datos (no olvidar que el KNN es con 5 vecinos). No es necesario definir `ytrain_ex` y `ytest_ex` porque son iguales a `ytrain` y `ytest` respectivamente.\n",
        "\n",
        "<font color='red'> **SALIDA ESPERADA:** \n",
        "\n",
        "* `Xtrain_ex`: matriz de características de training que han sido seleccionadas de `Xtrain_norm`\n",
        "\n",
        "* `Xtest_ex`: matriz de características de testing que han sido seleccionadas de `Xtest_norm`\n",
        "\n",
        "* `acc_ex`: Accuracy obtenido\n",
        "\n",
        "* `C_ex`: Matriz de confusión\n"
      ]
    },
    {
      "cell_type": "code",
      "metadata": {
        "id": "YXXuDNFlK1BM",
        "colab": {
          "base_uri": "https://localhost:8080/"
        },
        "outputId": "71a8a7b3-d661-4ab8-9344-65236c8037f8"
      },
      "source": [
        "# INGRESE CODIGO DE PREGUNTA 7 AQUI\n",
        "Xtrain_ex = Xtrain_norm[:,ex_indices]\n",
        "Xtest_ex = Xtest_norm[:,ex_indices]\n",
        "acc_ex,C_ex = ClassifierKNN(Xtrain_ex,ytrain,Xtest_ex,ytest,normalize=False, n_neighbors = 5)"
      ],
      "execution_count": 9,
      "outputs": [
        {
          "output_type": "stream",
          "name": "stdout",
          "text": [
            "Entrenando con 560 muestras y probando con 120 muestras (de 4 características)...\n",
            "Testing Accuracy = 91.66666666666666%\n",
            "Matriz de Confusión:\n",
            "[[57  3]\n",
            " [ 7 53]]\n"
          ]
        }
      ]
    },
    {
      "cell_type": "markdown",
      "source": [
        "# PREGUNTA 8: Selección con Búsqueda Exhaustiva usando Balu3\n",
        "\n",
        "(1 punto)\n",
        "\n",
        "Empleando la función `exsearch` de Balu3, obtenga el mismo resultado de la Pregunta 6. La función `exsearch` tiene la siguiente sintaxis:\n",
        "\n",
        "`ss = exsearch(Z,d,p)`\n",
        "\n",
        "donde \n",
        "\n",
        "* `ss` es el vector de índices seleccionados,\n",
        "\n",
        "* `Z` es la matriz original de características, \n",
        "\n",
        "* `d` es el vector de la clasificación ideal, y \n",
        "\n",
        "* `p` es el número de características a seleccionar.\n",
        "\n",
        "<font color='red'> **SALIDA ESPERADA:** \n",
        "\n",
        "El output de esta celda debe ser el vector `ex2_indices` de 4 elementos que debe contener los mismos elementos que `ex_indices` obtenidos en la Pregunta 6. Imprima con print el resultado.\n"
      ],
      "metadata": {
        "id": "zfzer2-SWtRS"
      }
    },
    {
      "cell_type": "code",
      "source": [
        "# INGRESE CODIGO DE PREGUNTA 8 AQUI\n",
        "ex2_indices = exsearch(Xtrain_norm,ytrain,4)\n",
        "print(ex2_indices)"
      ],
      "metadata": {
        "id": "0fDQDcIPW3de",
        "colab": {
          "base_uri": "https://localhost:8080/"
        },
        "outputId": "7a61d986-68aa-48f1-a466-6010003ee3e9"
      },
      "execution_count": 10,
      "outputs": [
        {
          "output_type": "stream",
          "name": "stdout",
          "text": [
            "[0 3 4 8]\n"
          ]
        }
      ]
    },
    {
      "cell_type": "markdown",
      "source": [
        "# PREGUNTA 9: Selección con SFS usando Balu3\n",
        "\n",
        "(1 punto)\n",
        "\n",
        "Empleando la función `sfs` de Balu3 seleccione 4 características, y realice la clasificación con las características seleccionadas. \n",
        "\n",
        "La sintaxis de `sfs` es similar a la de `exsearch`, es decir:\n",
        "\n",
        "`ss = sfs(Z,d,p)`\n",
        "\n",
        "donde \n",
        "\n",
        "* `ss` es el vector de índices seleccionados,\n",
        "\n",
        "* `Z` es la matriz original de características, \n",
        "\n",
        "* `d` es el vector de la clasificación ideal, y \n",
        "\n",
        "* `p` es el número de características a seleccionar.\n",
        "\n",
        "<font color='red'> **SALIDA ESPERADA:** \n",
        "\n",
        "El output de esta celda debe ser el vector `sfs_indices` de 4 elementos. Imprima el vector usando `print`.\n"
      ],
      "metadata": {
        "id": "qHJ4ZqsZytw2"
      }
    },
    {
      "cell_type": "code",
      "source": [
        "# INGRESE CODIGO DE PREGUNTA 9 AQUI\n",
        "sfs_indices = sfs(Xtrain_norm,ytrain,4)\n",
        "print(sfs_indices)"
      ],
      "metadata": {
        "id": "jbw4MlbDyqTP",
        "colab": {
          "base_uri": "https://localhost:8080/"
        },
        "outputId": "63fe8e1f-d356-4f9b-ba5f-6d19b659afe0"
      },
      "execution_count": 11,
      "outputs": [
        {
          "output_type": "stream",
          "name": "stdout",
          "text": [
            "[4 8 0 3]\n"
          ]
        }
      ]
    },
    {
      "cell_type": "markdown",
      "source": [
        "# PREGUNTA 10: Clasificación usando las características seleccionadas por SFS\n",
        "\n",
        "(2 puntos)\n",
        "\n",
        "A continuación se definen las matrices `Xtrain_sfs` (de 640x4 elementos) y `Xtest_sfs` (de 40x4) elementos, tomando las columnas seleccionadas de `Xtrain_norm` y `Xtest_norm` respectivamente usando los índices encontrados en `sfs_indices`.\n",
        "\n",
        "No es necesario definir `ytrain_sfs` y `ytest_sfs` porque son iguales a `ytrain` y `ytest` respectivamente.\n",
        "\n",
        "Finalmente, entrenamos y probamos el clasificador con estos nuevos datos. No olvidar que el clasificador es un KNN con 5 vecinos. \n",
        "\n",
        "<font color='red'> **SALIDA ESPERADA:** \n",
        "\n",
        "* `Xtrain_sfs`: matriz de características de training que han sido seleccionadas de `Xtrain_norm`\n",
        "\n",
        "* `Xtest_sfs`: matriz de características de testing que han sido seleccionadas de `Xtest_norm`\n",
        "\n",
        "* `acc_sfs`: Accuracy obtenido\n",
        "\n",
        "* `C_sfs`: Matriz de confusión\n"
      ],
      "metadata": {
        "id": "zjIr1vaY3IZc"
      }
    },
    {
      "cell_type": "code",
      "source": [
        "# INGRESE CODIGO DE PREGUNTA 10 AQUI\n",
        "Xtrain_sfs = Xtrain_norm[:,sfs_indices]\n",
        "Xtest_sfs = Xtest_norm[:,sfs_indices]\n",
        "acc_sfs,C_sfs = ClassifierKNN(Xtrain_sfs,ytrain,Xtest_sfs,ytest,normalize=False, n_neighbors = 5)"
      ],
      "metadata": {
        "id": "kWr0uPYO3B_-",
        "colab": {
          "base_uri": "https://localhost:8080/"
        },
        "outputId": "32369374-2886-4c0c-893d-887d4cf8faac"
      },
      "execution_count": 12,
      "outputs": [
        {
          "output_type": "stream",
          "name": "stdout",
          "text": [
            "Entrenando con 560 muestras y probando con 120 muestras (de 4 características)...\n",
            "Testing Accuracy = 91.66666666666666%\n",
            "Matriz de Confusión:\n",
            "[[57  3]\n",
            " [ 7 53]]\n"
          ]
        }
      ]
    },
    {
      "cell_type": "code",
      "source": [
        "#\n",
        "# EJECUTAR ESTA CELDA SIN MODIFICARLA\n",
        "#\n",
        "\n",
        "print('P02:        Xlb(12,1):',Xlbp[12,1])\n",
        "print('P02:  GT y(10),y(600):',y[10],y[600])\n",
        "print('P03:      Xtrain(5,2):',Xtrain[5,2])\n",
        "print('P03:       Xtest(7,3):',Xtest[7,3])\n",
        "print('P04: Xtrain_norm(5,2):',Xtrain_norm[5,2])\n",
        "print('P04:  Xtest_norm(7,3):',Xtest_norm[7,3])\n",
        "print('P05:          acc_all:',acc_all*100)\n",
        "print('P05:            C_all:',C_all[0,:],C_all[1,:])\n",
        "print('P06:       ex_indices:',ex_indices)\n",
        "print('P04:   Xtrain_ex(5,2):',Xtrain_ex[5,2])\n",
        "print('P04:    Xtest_ex(7,3):',Xtest_ex[7,3])\n",
        "print('P07:           acc_ex:',acc_ex*100)\n",
        "print('P07:             C_ex:',C_ex[0,:],C_ex[1,:])\n",
        "print('P08:      ex2_indices:',ex2_indices)\n",
        "print('P09:      sfs_indices:',sfs_indices)\n",
        "print('P10:  Xtrain_sfs(5,2):',Xtrain_sfs[5,2])\n",
        "print('P10:   Xtest_sfs(7,3):',Xtest_sfs[7,3])\n",
        "print('P10:          acc_sfs:',acc_sfs*100)\n",
        "print('P10:            C_sfs:',C_sfs[0,:],C_sfs[1,:])\n"
      ],
      "metadata": {
        "id": "mUDx3tmY33SS",
        "colab": {
          "base_uri": "https://localhost:8080/"
        },
        "outputId": "87b58e31-5b8d-4608-adb0-3dbf3f3ed583"
      },
      "execution_count": 13,
      "outputs": [
        {
          "output_type": "stream",
          "name": "stdout",
          "text": [
            "P02:        Xlb(12,1): 0.1576110387954495\n",
            "P02:  GT y(10),y(600): 0 1\n",
            "P03:      Xtrain(5,2): 0.10638263028660809\n",
            "P03:       Xtest(7,3): 0.26290881520584647\n",
            "P04: Xtrain_norm(5,2): 0.478640924510407\n",
            "P04:  Xtest_norm(7,3): 0.5349836173089737\n",
            "P05:          acc_all: 80.0\n",
            "P05:            C_all: [46 14] [10 50]\n",
            "P06:       ex_indices: (0, 3, 4, 8)\n",
            "P04:   Xtrain_ex(5,2): 0.5201379774152889\n",
            "P04:    Xtest_ex(7,3): 0.3643253264414724\n",
            "P07:           acc_ex: 91.66666666666666\n",
            "P07:             C_ex: [57  3] [ 7 53]\n",
            "P08:      ex2_indices: [0 3 4 8]\n",
            "P09:      sfs_indices: [4 8 0 3]\n",
            "P10:  Xtrain_sfs(5,2): 0.32902258431644554\n",
            "P10:   Xtest_sfs(7,3): 0.5349836173089737\n",
            "P10:          acc_sfs: 91.66666666666666\n",
            "P10:            C_sfs: [57  3] [ 7 53]\n"
          ]
        }
      ]
    },
    {
      "cell_type": "markdown",
      "metadata": {
        "id": "RIffHnis4bIp"
      },
      "source": [
        "# VERIFICACION FINAL\n",
        "\n",
        "<font color='red'> **ADVERTENCIA:** Este ejercicio será evaluado de la siguiente manera: si el código funciona y el resultado es correcto, la pregunta tendrá un 100% de la evaluación, en caso contrario 0%. Para asegurarse que el código se ejecute sin caídas seleccione la opción del menú:\n",
        "\n",
        "1) <font color='orange'> 'Runtime' + 'Disconnect and delete runtime' (inicializa todo)\n",
        "\n",
        "2) <font color='orange'> 'Run all'\n",
        "\n",
        "<font color='red'> El código debería ejecutarse desde el inicio hasta el final sin problema alguno."
      ]
    },
    {
      "cell_type": "markdown",
      "source": [
        "# PASO FINAL: Subir tarea\n",
        "\n",
        "<font color='orange'> **ADVERTENCIA FINAL:** Este archivo, que debe llamarse [tu RUT].ipynb, (el RUT debe ser sin puntos ni guion) y debe subirse a Canvas según la hora señalada para la actividad E06."
      ],
      "metadata": {
        "id": "2ilaxtdLHIZg"
      }
    }
  ]
}