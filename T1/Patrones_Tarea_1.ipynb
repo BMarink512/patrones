{
  "nbformat": 4,
  "nbformat_minor": 0,
  "metadata": {
    "colab": {
      "provenance": []
    },
    "kernelspec": {
      "name": "python3",
      "display_name": "Python 3"
    },
    "language_info": {
      "name": "python"
    }
  },
  "cells": [
    {
      "cell_type": "markdown",
      "source": [
        "Bastián Marinkovic"
      ],
      "metadata": {
        "id": "F4XO2rvcDpSv"
      }
    },
    {
      "cell_type": "markdown",
      "source": [
        "# Set Up"
      ],
      "metadata": {
        "id": "Tyt_MWcPDsku"
      }
    },
    {
      "cell_type": "code",
      "execution_count": 1,
      "metadata": {
        "id": "r-X1EegQCOl9"
      },
      "outputs": [],
      "source": [
        "import cv2\n",
        "import numpy as np\n",
        "import matplotlib.pyplot as plt\n",
        "from skimage.measure import label\n",
        "from scipy.ndimage import binary_fill_holes"
      ]
    },
    {
      "cell_type": "markdown",
      "source": [
        "# Decargar las imágenes"
      ],
      "metadata": {
        "id": "2qi0f5uTDxIA"
      }
    },
    {
      "cell_type": "code",
      "source": [
        "!wget https://www.dropbox.com/s/qix65nxcevypw0a/T01_imagenes.zip?dl=0\n",
        "!unzip -qq T01_imagenes.zip?dl=0\n",
        "# !ls T01_imagenes"
      ],
      "metadata": {
        "colab": {
          "base_uri": "https://localhost:8080/"
        },
        "id": "sAJp2ma9Dwuv",
        "outputId": "3353ceb6-2629-4961-ae19-78575a9ff488"
      },
      "execution_count": 2,
      "outputs": [
        {
          "output_type": "stream",
          "name": "stdout",
          "text": [
            "--2023-04-03 05:14:12--  https://www.dropbox.com/s/qix65nxcevypw0a/T01_imagenes.zip?dl=0\n",
            "Resolving www.dropbox.com (www.dropbox.com)... 162.125.5.18, 2620:100:601d:18::a27d:512\n",
            "Connecting to www.dropbox.com (www.dropbox.com)|162.125.5.18|:443... connected.\n",
            "HTTP request sent, awaiting response... 302 Found\n",
            "Location: /s/raw/qix65nxcevypw0a/T01_imagenes.zip [following]\n",
            "--2023-04-03 05:14:13--  https://www.dropbox.com/s/raw/qix65nxcevypw0a/T01_imagenes.zip\n",
            "Reusing existing connection to www.dropbox.com:443.\n",
            "HTTP request sent, awaiting response... 302 Found\n",
            "Location: https://ucf1b7fe32dd61fc12d965cb2207.dl.dropboxusercontent.com/cd/0/inline/B5fuxO3FpncWj-DTZBQ38SFV_E3Sj12TCVdv3U0L50YNTGaU9vIQUfO-p0SajEpT3cjtQKjMCeeVrK_Ai6KeOsapSpVdruGYTRCeJ0jP6sACwiZDyk_r4-SuFsDE-VlUt4f-ednPtIXgwrpjGF7YzF6PcLXMcu9I2--V0nRl3RBNug/file# [following]\n",
            "--2023-04-03 05:14:13--  https://ucf1b7fe32dd61fc12d965cb2207.dl.dropboxusercontent.com/cd/0/inline/B5fuxO3FpncWj-DTZBQ38SFV_E3Sj12TCVdv3U0L50YNTGaU9vIQUfO-p0SajEpT3cjtQKjMCeeVrK_Ai6KeOsapSpVdruGYTRCeJ0jP6sACwiZDyk_r4-SuFsDE-VlUt4f-ednPtIXgwrpjGF7YzF6PcLXMcu9I2--V0nRl3RBNug/file\n",
            "Resolving ucf1b7fe32dd61fc12d965cb2207.dl.dropboxusercontent.com (ucf1b7fe32dd61fc12d965cb2207.dl.dropboxusercontent.com)... 162.125.5.15, 2620:100:601b:15::a27d:80f\n",
            "Connecting to ucf1b7fe32dd61fc12d965cb2207.dl.dropboxusercontent.com (ucf1b7fe32dd61fc12d965cb2207.dl.dropboxusercontent.com)|162.125.5.15|:443... connected.\n",
            "HTTP request sent, awaiting response... 302 Found\n",
            "Location: /cd/0/inline2/B5erzFkfTOSJJHTOmS38iJz1Rbo1d02L1jTgg07H4dSYgBBy-ukUYudHrNt0ryZkQQjqVC_g9B8I0I47u8mvghaKE2rYDUYl32zT64Y2No-Rm-iO-Q-fup2-Ignpm4eGIu9m0r5PTIECfNUoUozgBSR8Y4azx4QhGIsqMaZDmPPH00-pS5wxRy7cNstcE5_eo5-ZqT6poaW7sdtscPBNfdyuOc11rWwMXCsPruNlhH7WKMciwlA5JuJTb_prfg2h1q5iweb3pluXY3M4S3DYQt1nJVIFpXMV9khrTkdJSj6Qoxjlf5rFIecLvbvv9q4fi1dD_r5cHG-QQ-hc1izaT4U7lbmUwPKACHPB_ixlOwz04pdPl0vFJymXJS-D-vlhxWgXrY0fN1UUr5i0zYd3uCVAxVYnM9beEr1sHqBECmB-Ew/file [following]\n",
            "--2023-04-03 05:14:13--  https://ucf1b7fe32dd61fc12d965cb2207.dl.dropboxusercontent.com/cd/0/inline2/B5erzFkfTOSJJHTOmS38iJz1Rbo1d02L1jTgg07H4dSYgBBy-ukUYudHrNt0ryZkQQjqVC_g9B8I0I47u8mvghaKE2rYDUYl32zT64Y2No-Rm-iO-Q-fup2-Ignpm4eGIu9m0r5PTIECfNUoUozgBSR8Y4azx4QhGIsqMaZDmPPH00-pS5wxRy7cNstcE5_eo5-ZqT6poaW7sdtscPBNfdyuOc11rWwMXCsPruNlhH7WKMciwlA5JuJTb_prfg2h1q5iweb3pluXY3M4S3DYQt1nJVIFpXMV9khrTkdJSj6Qoxjlf5rFIecLvbvv9q4fi1dD_r5cHG-QQ-hc1izaT4U7lbmUwPKACHPB_ixlOwz04pdPl0vFJymXJS-D-vlhxWgXrY0fN1UUr5i0zYd3uCVAxVYnM9beEr1sHqBECmB-Ew/file\n",
            "Reusing existing connection to ucf1b7fe32dd61fc12d965cb2207.dl.dropboxusercontent.com:443.\n",
            "HTTP request sent, awaiting response... 200 OK\n",
            "Length: 151802 (148K) [application/zip]\n",
            "Saving to: ‘T01_imagenes.zip?dl=0’\n",
            "\n",
            "T01_imagenes.zip?dl 100%[===================>] 148.24K  --.-KB/s    in 0.05s   \n",
            "\n",
            "2023-04-03 05:14:13 (2.82 MB/s) - ‘T01_imagenes.zip?dl=0’ saved [151802/151802]\n",
            "\n"
          ]
        }
      ]
    },
    {
      "cell_type": "markdown",
      "source": [
        "# Funciones para cargar las imágenes"
      ],
      "metadata": {
        "id": "ctAOnDX7Skse"
      }
    },
    {
      "cell_type": "code",
      "source": [
        "# Funciones necesarias para que se pueda cargar una imagen individual\n",
        "\n",
        "def num2fixstr(x,d):\n",
        "  # example num2fixstr(2,5) returns '00002'\n",
        "  # example num2fixstr(19,3) returns '019'\n",
        "  st = '%0*d' % (d,x)\n",
        "  return st\n",
        "\n",
        "def ImageLoad(prefix,num_img,echo='off'):\n",
        "  # img = ImageLoad('example/char_',1,3)   loads image 'example/char_01_003.png'\n",
        "  # img = ImageLoad('example/char_',2,15)  loads image 'example/char_02_015.png'\n",
        "  st   = prefix + num2fixstr(num_img, 2) + '.png'\n",
        "  if echo == 'on':\n",
        "    print('loading image '+st+'...')\n",
        "  img    = plt.imread(st)\n",
        "  return img"
      ],
      "metadata": {
        "id": "PcpHWLJhFvhl"
      },
      "execution_count": 3,
      "outputs": []
    },
    {
      "cell_type": "markdown",
      "source": [
        "# Identificación de cada número presente en la imagen"
      ],
      "metadata": {
        "id": "DE1FlvwNSpyy"
      }
    },
    {
      "cell_type": "markdown",
      "source": [
        "## Funciones auxiliares para reconocer los números"
      ],
      "metadata": {
        "id": "JTEougCdSylD"
      }
    },
    {
      "cell_type": "code",
      "source": [
        "def Determine_number(img, x, y, w, h):\n",
        "\n",
        "  \"\"\"\n",
        "  Función encargada de determinar el número presente en la imangen, recibe\n",
        "  la imagen completa y las coordenadas del número a analizar (la bounding box\n",
        "  que lo comprende). \n",
        "     \n",
        "  Retorna el número determinado en la bounding box.\n",
        "  \"\"\"\n",
        "\n",
        "  # bounding box\n",
        "  bbox = img[y:y+h, x:x+w]\n",
        "\n",
        "  # umbralización\n",
        "  bbox[bbox >  0.25 * 255] = 255\n",
        "  bbox[bbox <= 0.25 * 255] = 0\n",
        "  \n",
        "  # los siguientes valores son para chequear cuanta area de la bounding box\n",
        "  # cubre un numero y lo mismo a nivel de linea\n",
        "  percentageNumberOne = 0.97\n",
        "  percentageLine = 0.9\n",
        "  \n",
        "  # número es 1 si el area pintada representa mas que percentageNumberOne del area total\n",
        "  if checkAreaPercentage(bbox, w, h, percentageNumberOne):\n",
        "    return 1\n",
        "  \n",
        "  # si el número tiene agujeros\n",
        "  if haveHoles(bbox): # 0, 4, 8, 9 \n",
        "    # como la imagen tiene orificios se tiene que determinar si es que están \n",
        "    # presentes solamantenete en la mitad inforior de la imagen, en la superior\n",
        "    # o en ambas mitades\n",
        "    \n",
        "    haveUpperHoles = haveHoles(bbox[:int(h / 2), :]) # agujeros mitad superior\n",
        "    haveLowerHoles = haveHoles(bbox[int(h / 2):, :]) # agujeros mitad inferior\n",
        "\n",
        "    if haveUpperHoles and haveLowerHoles:\n",
        "      return 8\n",
        "    elif haveUpperHoles and not(haveLowerHoles):\n",
        "      return 9\n",
        "    elif not(haveUpperHoles) and haveLowerHoles:\n",
        "      return 6\n",
        "    \n",
        "    \"\"\"\n",
        "    si se llega a este punto es porque es un 4 o un 0, esto porque ambos numeros\n",
        "    presentan agujeros, pero se encuentran al mismo tiempo en la mitad\n",
        "    superior e inferior. \n",
        "\n",
        "    se comprueba si es un 4 o no, para esto se ve si el area percentage de dos\n",
        "    lineas que cruzan el numero, si ambas cumplen es 4, sino es 0\n",
        "    \"\"\"\n",
        "    \n",
        "    axis = 0\n",
        "    axis2 = 1\n",
        "    start = 0\n",
        "    end = 1\n",
        "\n",
        "    # lineas que se realizaran la operación, se ve sobre una linea horizontal y\n",
        "    # una vertical (orientación definida por axis)\n",
        "    lineVertical, hV, wV = createLine(bbox, axis, start, end)\n",
        "    lineHorizontal, hH, wH = createLine(bbox, axis2, start, end)\n",
        "\n",
        "    percentageVert = checkAreaPercentage(lineVertical, wV, h, percentageLine)\n",
        "    percentageHori = checkAreaPercentage(lineHorizontal, w, hH, percentageLine)\n",
        "\n",
        "    if percentageVert and percentageHori:\n",
        "      return 4\n",
        "    \n",
        "    return 0\n",
        "    \n",
        "\n",
        "  else: # 2, 3, 5, 7\n",
        "    \n",
        "    # si el area cubierta en la base del numero es mayor a percentageLine es un 2\n",
        "    if checkAreaPercentage(bbox[h-1, :], w, 1, percentageLine):\n",
        "      return 2\n",
        "    \n",
        "    # si el area cubierta en la parte superior del numero es mayor a percentageLine es un 7\n",
        "    if checkAreaPercentage(bbox[0, :], w, 1, percentageLine):\n",
        "      return 7\n",
        "    \n",
        "    # para determinar si es un 3 o un 5 se ve la diferencia de areas pintadas\n",
        "    # con blanco de la parte izquierda con la parte derecha de la imagen, si la\n",
        "    # diferencia porcentual entre ambas es mayor a un 20% es un 3, sino es 5\n",
        "\n",
        "    leftArea = np.sum(bbox[:, :int(w / 2)]) / 255\n",
        "    rightArea = np.sum(bbox[:, int(w / 2):]) / 255\n",
        "\n",
        "    diff = abs(leftArea - rightArea)\n",
        "\n",
        "    percentageDiff = 100 * diff / max(leftArea, rightArea)\n",
        "\n",
        "    if percentageDiff < 20:\n",
        "      return 5\n",
        "    \n",
        "    return 3"
      ],
      "metadata": {
        "id": "GeVIf35bYn0t"
      },
      "execution_count": 4,
      "outputs": []
    },
    {
      "cell_type": "code",
      "source": [
        "def checkAreaPercentage(bbox, w, h, percentage):\n",
        "  \"\"\"\n",
        "  funcion que recibe la bound box, su ancho y alto comprueba si el área \n",
        "  pintada es mayor a un percentage del area total, si cumple retorna true, \n",
        "  sino retorna false\n",
        "  \"\"\"\n",
        "  if np.sum(bbox) >= ( 255 * w * h * percentage ):\n",
        "    return True\n",
        "  return False"
      ],
      "metadata": {
        "id": "fCkhbSPUwcbX"
      },
      "execution_count": 5,
      "outputs": []
    },
    {
      "cell_type": "code",
      "source": [
        "def haveHoles(bbox):\n",
        "  \"\"\"\n",
        "  Esta función recibe el bounding box\n",
        "  \n",
        "  Retorna un bool, es true tiene orificio, false en otro caso\n",
        "  \"\"\"\n",
        "  area = int(np.sum(bbox / 255))\n",
        "  filledArea = FilledArea(bbox)\n",
        "  if area == filledArea:\n",
        "    return False\n",
        "  return True\n",
        "\n",
        "\n",
        "def FilledArea(img):\n",
        "  \"\"\"\n",
        "  Codigo basado de colab visto en clase, separación jq, retorna el área de la \n",
        "  imagen luego de que se aplique la operación binary_fill_holes\n",
        "  \"\"\"\n",
        "  R = binary_fill_holes(img).astype(int) \n",
        "  NumArea = np.sum(R)                    \n",
        "  return NumArea\n"
      ],
      "metadata": {
        "id": "w86OdIHcYzzs"
      },
      "execution_count": 6,
      "outputs": []
    },
    {
      "cell_type": "code",
      "source": [
        "def findInterestCoordinates(line):\n",
        "  \"\"\"\n",
        "  Función que retorna las coordenadas del primer pixel pintado en la imagen\n",
        "  \"\"\"\n",
        "  for i in range(line.shape[0]):\n",
        "    for j in range(line.shape[1]):\n",
        "      if line[i, j] == 255:\n",
        "        return [[i, j]]\n",
        "\n",
        "def createLine(bbox, axis, start, end):\n",
        "  \"\"\"\n",
        "  funcion que toma como argumento la bounding box, y crea una linea en el axis\n",
        "  indicado con los puntos de inicio y fin, sobre esta linea se realiza una busqueda\n",
        "  de pixeles pintados, y en base a las coordenadas del primer pixel pintado se\n",
        "  crea una segunda linea desde dicho primer pixel hasta el tamaño de la imagen \n",
        "  en el sentido correspondiente. \n",
        "\n",
        "  La función retorna una linea, su alto y ancho.\n",
        "  \"\"\"\n",
        "  \n",
        "  if axis == 0:\n",
        "    line = bbox[start:end, :] # extremo del numero sobre el que se hara la busqueda\n",
        "\n",
        "  else:\n",
        "    line = bbox[:, start:end] # extremo del numero sobre el que se hara la busqueda\n",
        "\n",
        "  idLine = findInterestCoordinates(line)\n",
        "\n",
        "  if axis == 0: # se crea una linea vertical\n",
        "    interestLine = bbox[idLine[0][0]:, idLine[0][1]]    # linea de interes\n",
        "    interestLine = interestLine.reshape(bbox.shape[0], 1)\n",
        "  \n",
        "  else: # se crea una linea horizontal\n",
        "    interestLine = bbox[idLine[0][0], idLine[0][1]:]    # linea de interes \n",
        "    interestLine = interestLine.reshape(1, bbox.shape[1]) \n",
        "\n",
        "  h, w = interestLine.shape\n",
        "  return interestLine, h, w"
      ],
      "metadata": {
        "id": "_3u5LiiuvGQs"
      },
      "execution_count": 7,
      "outputs": []
    },
    {
      "cell_type": "code",
      "source": [
        "def findBoundingBox(img, color):\n",
        "  \"\"\"\n",
        "  Función que recibe imagen luego de que se pasase por label y el color del\n",
        "  numero sobre el que se busca la bounding box\n",
        "  retorna las coordenadas del inicio de la bbox, su ancho y alto\n",
        "  \"\"\"\n",
        "\n",
        "  imin = img.shape[0]\n",
        "  imax = 0\n",
        "  jmin = img.shape[1]\n",
        "  jmax = 0\n",
        "  for i in range(img.shape[0]):\n",
        "    if np.any(img[i, :] != 0):     # optimización sobre la busqueda, alternativamente se puede hacer if np.sum(img[i, :]) != 0:\n",
        "      for j in range(img.shape[1]):\n",
        "        if np.any(img[:, j] != 0): # optimización sobre la busqueda, alternativamente se puede hacer if np.sum(img[:, j]) != 0:\n",
        "          if img[i,j] == color:\n",
        "            if i<imin:\n",
        "              imin = i\n",
        "            if i>imax:\n",
        "              imax = i\n",
        "            if j<jmin:\n",
        "              jmin = j\n",
        "            if j>jmax:\n",
        "              jmax = j\n",
        "  return jmin, imin, jmax - jmin + 1, imax - imin + 1"
      ],
      "metadata": {
        "id": "lU7BIbBVqBli"
      },
      "execution_count": 8,
      "outputs": []
    },
    {
      "cell_type": "markdown",
      "source": [
        "## Definición de reconocedor"
      ],
      "metadata": {
        "id": "S_wQvl0O_9-V"
      }
    },
    {
      "cell_type": "code",
      "source": [
        "def Reconocedor(img):\n",
        "  \"\"\"\n",
        "  Función que recibe imagen cargada por ImageLoad\n",
        "  retorna lista de numeros encontrados\n",
        "  \"\"\"\n",
        "\n",
        "  # Los valores de la imagen se dejan entre [0, 255]\n",
        "  img = img * 255\n",
        "  \n",
        "  # Se pasa a escala de grises y se juntan los 3 canales de colores en uno solamente\n",
        "  gray = cv2.cvtColor(img.astype('uint8'), cv2.COLOR_RGB2GRAY)\n",
        "\n",
        "  # se filtran los pixeles menores a 50\n",
        "  R = gray > 50\n",
        "  thresh = R.astype(int)\n",
        "  # se genera labels de los numeros presentes en la imagen con el fin de identificar\n",
        "  # cada numero individualmente\n",
        "  L = label(R)\n",
        "  bounding_boxes = []\n",
        "  for i in range(1, np.max(L) + 1):\n",
        "    x, y, w, h = findBoundingBox(L, i)\n",
        "    bounding_boxes.append((x, y, w, h))\n",
        "\n",
        "  # se ordenan los números respecto a el orden de aparicion en la imagen\n",
        "  bounding_boxes = sorted(bounding_boxes, key=lambda x: x[0])\n",
        "\n",
        "  numbersDetermine = []\n",
        "  \n",
        "  for bbox in bounding_boxes: # se determina el numero presente en cada bbox\n",
        "      x, y, w, h = bbox\n",
        "      numbersDetermine.append(Determine_number(gray, x, y, w, h))\n",
        "  \n",
        "  return numbersDetermine"
      ],
      "metadata": {
        "id": "0vu7wiO2QRtL"
      },
      "execution_count": 9,
      "outputs": []
    },
    {
      "cell_type": "code",
      "source": [
        "# etiquetas de imagenes\n",
        "groundTruth = [\n",
        "    [4, 6, 1, 1, 2, 9],\n",
        "    [9, 5, 2, 9],\n",
        "    [4, 5, 1, 9, 0],\n",
        "    [6, 2, 8, 0, 9, 3],\n",
        "    [2, 3, 6, 9, 1],\n",
        "    [4, 2, 8, 7, 2, 3, 9],\n",
        "    [8, 6, 3, 2, 9],\n",
        "    [3, 5, 1, 9, 0, 8],\n",
        "    [7, 2, 8, 7, 0, 9, 3],\n",
        "    [2, 8, 2, 5, 2, 9],\n",
        "    [2, 9, 1, 1, 2],\n",
        "    [2, 9, 9, 5],\n",
        "    [5, 1, 9, 0, 4, 5],\n",
        "    [8, 0, 8, 0, 9, 3, 6, 2, 8],\n",
        "    [2, 3, 6, 9, 1, 6, 2, 3],\n",
        "    [8, 7, 2, 3, 9],\n",
        "    [6, 8, 6, 3, 2, 9, 8],\n",
        "    [5, 3, 5, 1, 9, 0, 8, 1, 9],\n",
        "    [2, 8, 7, 0, 9],\n",
        "    [2, 8, 2, 5, 2, 9, 2, 5]\n",
        "]"
      ],
      "metadata": {
        "id": "GpsExPLLvQFm"
      },
      "execution_count": 10,
      "outputs": []
    },
    {
      "cell_type": "markdown",
      "source": [
        "## Ejecución de roconocedor"
      ],
      "metadata": {
        "id": "BnsE37HH_xzb"
      }
    },
    {
      "cell_type": "code",
      "source": [
        "results = []\n",
        "for i in range(1,21):\n",
        "  img    = ImageLoad('prueba_',i,echo='off')\n",
        "  results.append(Reconocedor(img))"
      ],
      "metadata": {
        "id": "oFTYHShZywps"
      },
      "execution_count": 11,
      "outputs": []
    },
    {
      "cell_type": "markdown",
      "source": [
        "# Matriz de confusión"
      ],
      "metadata": {
        "id": "vEVvBnG1DLV2"
      }
    },
    {
      "cell_type": "code",
      "source": [
        "matrix = [[0 for _ in range(10)] for _ in range(10)]"
      ],
      "metadata": {
        "id": "GZjClrHKDM-n"
      },
      "execution_count": 12,
      "outputs": []
    },
    {
      "cell_type": "code",
      "source": [
        "total = 0\n",
        "correct = 0\n",
        "for image in range(len(results)):\n",
        "  quantityOfNumbers = len(groundTruth[image])\n",
        "  total += quantityOfNumbers\n",
        "\n",
        "  for number in range(quantityOfNumbers):\n",
        "    matrix[groundTruth[image][number]][results[image][number]] += 1\n",
        "    if groundTruth[image][number] == results[image][number]:\n",
        "      correct += 1"
      ],
      "metadata": {
        "id": "A-Rg0y85F_Oe"
      },
      "execution_count": 13,
      "outputs": []
    },
    {
      "cell_type": "code",
      "source": [
        "matrix"
      ],
      "metadata": {
        "colab": {
          "base_uri": "https://localhost:8080/"
        },
        "id": "8Fdz3-xYG9n0",
        "outputId": "487082f1-7ba0-4190-f8db-648219df954a"
      },
      "execution_count": 14,
      "outputs": [
        {
          "output_type": "execute_result",
          "data": {
            "text/plain": [
              "[[9, 0, 0, 0, 0, 0, 0, 0, 0, 0],\n",
              " [0, 11, 0, 0, 0, 0, 0, 0, 0, 0],\n",
              " [0, 0, 24, 0, 0, 0, 0, 0, 0, 0],\n",
              " [0, 0, 0, 12, 0, 0, 0, 0, 0, 0],\n",
              " [0, 0, 0, 0, 4, 0, 0, 0, 0, 0],\n",
              " [0, 0, 0, 0, 0, 11, 0, 0, 0, 0],\n",
              " [0, 0, 0, 0, 0, 0, 9, 0, 0, 0],\n",
              " [0, 0, 0, 0, 0, 0, 0, 5, 0, 0],\n",
              " [0, 0, 0, 0, 0, 0, 0, 0, 15, 0],\n",
              " [0, 0, 0, 0, 0, 0, 0, 0, 0, 23]]"
            ]
          },
          "metadata": {},
          "execution_count": 14
        }
      ]
    },
    {
      "cell_type": "code",
      "source": [
        "acc = correct / total * 100\n",
        "acc"
      ],
      "metadata": {
        "colab": {
          "base_uri": "https://localhost:8080/"
        },
        "id": "v1ncmBuxJfFX",
        "outputId": "2372c33c-c744-49d0-ed22-73c8e397b7c5"
      },
      "execution_count": 15,
      "outputs": [
        {
          "output_type": "execute_result",
          "data": {
            "text/plain": [
              "100.0"
            ]
          },
          "metadata": {},
          "execution_count": 15
        }
      ]
    }
  ]
}